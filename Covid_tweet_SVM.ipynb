{
 "cells": [
  {
   "cell_type": "code",
   "execution_count": 1,
   "id": "e63b57e0",
   "metadata": {},
   "outputs": [],
   "source": [
    "import pandas as pd"
   ]
  },
  {
   "cell_type": "markdown",
   "id": "efd5711c",
   "metadata": {},
   "source": [
    "### Loading the dataset"
   ]
  },
  {
   "cell_type": "code",
   "execution_count": 2,
   "id": "bf542284",
   "metadata": {},
   "outputs": [
    {
     "data": {
      "text/html": [
       "<div>\n",
       "<style scoped>\n",
       "    .dataframe tbody tr th:only-of-type {\n",
       "        vertical-align: middle;\n",
       "    }\n",
       "\n",
       "    .dataframe tbody tr th {\n",
       "        vertical-align: top;\n",
       "    }\n",
       "\n",
       "    .dataframe thead th {\n",
       "        text-align: right;\n",
       "    }\n",
       "</style>\n",
       "<table border=\"1\" class=\"dataframe\">\n",
       "  <thead>\n",
       "    <tr style=\"text-align: right;\">\n",
       "      <th></th>\n",
       "      <th>tweet</th>\n",
       "      <th>label</th>\n",
       "    </tr>\n",
       "  </thead>\n",
       "  <tbody>\n",
       "    <tr>\n",
       "      <th>0</th>\n",
       "      <td>Coronavirus | Human Coronavirus Types | CDC ht...</td>\n",
       "      <td>neu</td>\n",
       "    </tr>\n",
       "    <tr>\n",
       "      <th>1</th>\n",
       "      <td>@shehryar_taseer That‚Äôs üíØ true , \\nCorona...</td>\n",
       "      <td>neu</td>\n",
       "    </tr>\n",
       "    <tr>\n",
       "      <th>2</th>\n",
       "      <td>TLDR: Not SARS, possibly new coronavirus. Diff...</td>\n",
       "      <td>neg</td>\n",
       "    </tr>\n",
       "    <tr>\n",
       "      <th>3</th>\n",
       "      <td>Disease outbreak news from the WHO: Middle Eas...</td>\n",
       "      <td>neu</td>\n",
       "    </tr>\n",
       "    <tr>\n",
       "      <th>4</th>\n",
       "      <td>China - Media: WSJ says sources tell them myst...</td>\n",
       "      <td>neu</td>\n",
       "    </tr>\n",
       "    <tr>\n",
       "      <th>...</th>\n",
       "      <td>...</td>\n",
       "      <td>...</td>\n",
       "    </tr>\n",
       "    <tr>\n",
       "      <th>29995</th>\n",
       "      <td>CDC: Re-test confirms Westerdam cruise ship pa...</td>\n",
       "      <td>neu</td>\n",
       "    </tr>\n",
       "    <tr>\n",
       "      <th>29996</th>\n",
       "      <td>Two doctors die of coronavirus within 24 hours...</td>\n",
       "      <td>neu</td>\n",
       "    </tr>\n",
       "    <tr>\n",
       "      <th>29997</th>\n",
       "      <td>BEIJING - The lockdown of Guo Jing's neighbour...</td>\n",
       "      <td>neu</td>\n",
       "    </tr>\n",
       "    <tr>\n",
       "      <th>29998</th>\n",
       "      <td>#CoronavirusOutbreak in #Balochistan !!\\n#CPEC...</td>\n",
       "      <td>neu</td>\n",
       "    </tr>\n",
       "    <tr>\n",
       "      <th>29999</th>\n",
       "      <td>The Australian dollar has hit a fresh decade l...</td>\n",
       "      <td>neu</td>\n",
       "    </tr>\n",
       "  </tbody>\n",
       "</table>\n",
       "<p>30000 rows × 2 columns</p>\n",
       "</div>"
      ],
      "text/plain": [
       "                                                   tweet label\n",
       "0      Coronavirus | Human Coronavirus Types | CDC ht...   neu\n",
       "1      @shehryar_taseer That‚Äôs üíØ true , \\nCorona...   neu\n",
       "2      TLDR: Not SARS, possibly new coronavirus. Diff...   neg\n",
       "3      Disease outbreak news from the WHO: Middle Eas...   neu\n",
       "4      China - Media: WSJ says sources tell them myst...   neu\n",
       "...                                                  ...   ...\n",
       "29995  CDC: Re-test confirms Westerdam cruise ship pa...   neu\n",
       "29996  Two doctors die of coronavirus within 24 hours...   neu\n",
       "29997  BEIJING - The lockdown of Guo Jing's neighbour...   neu\n",
       "29998  #CoronavirusOutbreak in #Balochistan !!\\n#CPEC...   neu\n",
       "29999  The Australian dollar has hit a fresh decade l...   neu\n",
       "\n",
       "[30000 rows x 2 columns]"
      ]
     },
     "execution_count": 2,
     "metadata": {},
     "output_type": "execute_result"
    }
   ],
   "source": [
    "df = pd.read_csv(r'C:\\Users\\Sourav\\Desktop\\DUK\\Assignments\\COVIDSenti-A.csv')\n",
    "df"
   ]
  },
  {
   "cell_type": "code",
   "execution_count": 3,
   "id": "9495d50a",
   "metadata": {},
   "outputs": [
    {
     "data": {
      "text/plain": [
       "(30000, 2)"
      ]
     },
     "execution_count": 3,
     "metadata": {},
     "output_type": "execute_result"
    }
   ],
   "source": [
    "df.shape"
   ]
  },
  {
   "cell_type": "code",
   "execution_count": 4,
   "id": "e2dea32c",
   "metadata": {},
   "outputs": [
    {
     "data": {
      "text/plain": [
       "Index(['tweet', 'label'], dtype='object')"
      ]
     },
     "execution_count": 4,
     "metadata": {},
     "output_type": "execute_result"
    }
   ],
   "source": [
    "df.columns"
   ]
  },
  {
   "cell_type": "code",
   "execution_count": 5,
   "id": "b64cbc0b",
   "metadata": {},
   "outputs": [
    {
     "name": "stdout",
     "output_type": "stream",
     "text": [
      "<class 'pandas.core.frame.DataFrame'>\n",
      "RangeIndex: 30000 entries, 0 to 29999\n",
      "Data columns (total 2 columns):\n",
      " #   Column  Non-Null Count  Dtype \n",
      "---  ------  --------------  ----- \n",
      " 0   tweet   30000 non-null  object\n",
      " 1   label   30000 non-null  object\n",
      "dtypes: object(2)\n",
      "memory usage: 468.9+ KB\n"
     ]
    }
   ],
   "source": [
    "df.info()"
   ]
  },
  {
   "cell_type": "code",
   "execution_count": 6,
   "id": "238d57ac",
   "metadata": {},
   "outputs": [
    {
     "data": {
      "text/html": [
       "<div>\n",
       "<style scoped>\n",
       "    .dataframe tbody tr th:only-of-type {\n",
       "        vertical-align: middle;\n",
       "    }\n",
       "\n",
       "    .dataframe tbody tr th {\n",
       "        vertical-align: top;\n",
       "    }\n",
       "\n",
       "    .dataframe thead th {\n",
       "        text-align: right;\n",
       "    }\n",
       "</style>\n",
       "<table border=\"1\" class=\"dataframe\">\n",
       "  <thead>\n",
       "    <tr style=\"text-align: right;\">\n",
       "      <th></th>\n",
       "      <th>tweet</th>\n",
       "      <th>label</th>\n",
       "    </tr>\n",
       "  </thead>\n",
       "  <tbody>\n",
       "    <tr>\n",
       "      <th>count</th>\n",
       "      <td>30000</td>\n",
       "      <td>30000</td>\n",
       "    </tr>\n",
       "    <tr>\n",
       "      <th>unique</th>\n",
       "      <td>29987</td>\n",
       "      <td>3</td>\n",
       "    </tr>\n",
       "    <tr>\n",
       "      <th>top</th>\n",
       "      <td>Copper price and coronavirus: ‚ÄúBlack swan li...</td>\n",
       "      <td>neu</td>\n",
       "    </tr>\n",
       "    <tr>\n",
       "      <th>freq</th>\n",
       "      <td>3</td>\n",
       "      <td>22949</td>\n",
       "    </tr>\n",
       "  </tbody>\n",
       "</table>\n",
       "</div>"
      ],
      "text/plain": [
       "                                                    tweet  label\n",
       "count                                               30000  30000\n",
       "unique                                              29987      3\n",
       "top     Copper price and coronavirus: ‚ÄúBlack swan li...    neu\n",
       "freq                                                    3  22949"
      ]
     },
     "execution_count": 6,
     "metadata": {},
     "output_type": "execute_result"
    }
   ],
   "source": [
    "df.describe()"
   ]
  },
  {
   "cell_type": "code",
   "execution_count": 7,
   "id": "21d9b6f3",
   "metadata": {},
   "outputs": [
    {
     "data": {
      "text/plain": [
       "neu    22949\n",
       "neg     5083\n",
       "pos     1968\n",
       "Name: label, dtype: int64"
      ]
     },
     "execution_count": 7,
     "metadata": {},
     "output_type": "execute_result"
    }
   ],
   "source": [
    "df.label.value_counts()"
   ]
  },
  {
   "cell_type": "code",
   "execution_count": 8,
   "id": "da9e47c3",
   "metadata": {},
   "outputs": [
    {
     "data": {
      "image/png": "[encoded data removed]",
      "text/plain": [
       "<Figure size 360x288 with 1 Axes>"
      ]
     },
     "metadata": {},
     "output_type": "display_data"
    }
   ],
   "source": [
    "import matplotlib.pyplot as plt\n",
    "\n",
    "plt.figure(figsize = (5, 4))\n",
    "x = df['label'].value_counts()\n",
    "labels=['neu', 'pos', 'neg']\n",
    "plt.pie(x, labels=labels)\n",
    "plt.title(\"Label Count\")\n",
    "plt.show()"
   ]
  },
  {
   "cell_type": "code",
   "execution_count": 9,
   "id": "31ceb089",
   "metadata": {},
   "outputs": [
    {
     "data": {
      "text/plain": [
       "'Genome sequence of the new coronavirus associated with a pneumonia cluster in Wuhan, China: https://t.co/6k5urEWn7G'"
      ]
     },
     "execution_count": 9,
     "metadata": {},
     "output_type": "execute_result"
    }
   ],
   "source": [
    "df[df['label']=='neu'].loc[17,'tweet']"
   ]
  },
  {
   "cell_type": "code",
   "execution_count": 10,
   "id": "ae8d23f8",
   "metadata": {},
   "outputs": [
    {
     "data": {
      "text/plain": [
       "'@KariDebbink @Vineet321 The Frieman Scary Scale makes its debut. Wuhan Coronavirus scores 3 out of 10 N95 masks.'"
      ]
     },
     "execution_count": 10,
     "metadata": {},
     "output_type": "execute_result"
    }
   ],
   "source": [
    "df[df['label']=='neg'].loc[16,'tweet']"
   ]
  },
  {
   "cell_type": "code",
   "execution_count": 11,
   "id": "c3e2839c",
   "metadata": {},
   "outputs": [
    {
     "data": {
      "text/plain": [
       "\"Novel #Wuhan #coronavirus virus cases leap up.\\nLatest blog, which doesn't include 1 case from Shenzhen and 2 cases‚Ä¶ https://t.co/lJks3nQK10\""
      ]
     },
     "execution_count": 11,
     "metadata": {},
     "output_type": "execute_result"
    }
   ],
   "source": [
    "df[df['label']=='pos'].loc[70,'tweet']"
   ]
  },
  {
   "cell_type": "markdown",
   "id": "2fd50307",
   "metadata": {},
   "source": [
    "From the above tweets we can understand that the texts are not plain. We have to clean this text"
   ]
  },
  {
   "cell_type": "markdown",
   "id": "a0f85fb7",
   "metadata": {},
   "source": [
    "### Looking For Null Values"
   ]
  },
  {
   "cell_type": "code",
   "execution_count": 12,
   "id": "d4920a65",
   "metadata": {},
   "outputs": [
    {
     "data": {
      "text/plain": [
       "tweet    0\n",
       "label    0\n",
       "dtype: int64"
      ]
     },
     "execution_count": 12,
     "metadata": {},
     "output_type": "execute_result"
    }
   ],
   "source": [
    "df.isnull().sum()"
   ]
  },
  {
   "cell_type": "markdown",
   "id": "3d01ca01",
   "metadata": {},
   "source": [
    "There are no missing values in the dataset."
   ]
  },
  {
   "cell_type": "markdown",
   "id": "93f89c6a",
   "metadata": {},
   "source": [
    "### Data Preprocessing"
   ]
  },
  {
   "cell_type": "code",
   "execution_count": 13,
   "id": "d95daebe",
   "metadata": {},
   "outputs": [],
   "source": [
    "import re\n",
    "import numpy as np"
   ]
  },
  {
   "cell_type": "code",
   "execution_count": 14,
   "id": "1fc431c2",
   "metadata": {},
   "outputs": [],
   "source": [
    "# Function for removing @user\n",
    "def remove_pattern(input_txt, pattern):\n",
    "    r = re.findall(pattern, input_txt)\n",
    "    for i in r:\n",
    "        input_txt = re.sub(i,'',input_txt)\n",
    "    return input_txt"
   ]
  },
  {
   "cell_type": "code",
   "execution_count": 15,
   "id": "ac96d5c0",
   "metadata": {},
   "outputs": [],
   "source": [
    "# Create new column with removed @user\n",
    "df['tweet'] = np.vectorize(remove_pattern)(df['tweet'], '@[\\w]*')"
   ]
  },
  {
   "cell_type": "code",
   "execution_count": 16,
   "id": "0325d15a",
   "metadata": {},
   "outputs": [],
   "source": [
    "# Removing HTTP and urls from tweets\n",
    "df['tweet'] = df['tweet'].apply(lambda x: re.split('https:\\/\\/.*', str(x))[0])"
   ]
  },
  {
   "cell_type": "code",
   "execution_count": 17,
   "id": "c4be624c",
   "metadata": {},
   "outputs": [
    {
     "name": "stderr",
     "output_type": "stream",
     "text": [
      "C:\\Users\\Sourav\\AppData\\Local\\Temp/ipykernel_18104/1287549166.py:2: FutureWarning: The default value of regex will change from True to False in a future version.\n",
      "  df['tweet'] = df['tweet'].str.replace('[^a-zA-Z#]+',' ')\n"
     ]
    }
   ],
   "source": [
    "# Removing special characters, numbers, punctuations\n",
    "df['tweet'] = df['tweet'].str.replace('[^a-zA-Z#]+',' ')"
   ]
  },
  {
   "cell_type": "code",
   "execution_count": 18,
   "id": "1df06bbe",
   "metadata": {},
   "outputs": [],
   "source": [
    "df['tweet'] = df['tweet'].str.replace('#',' ')"
   ]
  },
  {
   "cell_type": "code",
   "execution_count": 19,
   "id": "df6c8a4e",
   "metadata": {},
   "outputs": [],
   "source": [
    "# Making all the words in lower case\n",
    "df['tweet']=df['tweet'].str.lower() "
   ]
  },
  {
   "cell_type": "code",
   "execution_count": 20,
   "id": "fa6dc86a",
   "metadata": {},
   "outputs": [
    {
     "data": {
      "text/html": [
       "<div>\n",
       "<style scoped>\n",
       "    .dataframe tbody tr th:only-of-type {\n",
       "        vertical-align: middle;\n",
       "    }\n",
       "\n",
       "    .dataframe tbody tr th {\n",
       "        vertical-align: top;\n",
       "    }\n",
       "\n",
       "    .dataframe thead th {\n",
       "        text-align: right;\n",
       "    }\n",
       "</style>\n",
       "<table border=\"1\" class=\"dataframe\">\n",
       "  <thead>\n",
       "    <tr style=\"text-align: right;\">\n",
       "      <th></th>\n",
       "      <th>tweet</th>\n",
       "      <th>label</th>\n",
       "    </tr>\n",
       "  </thead>\n",
       "  <tbody>\n",
       "    <tr>\n",
       "      <th>0</th>\n",
       "      <td>coronavirus human coronavirus types cdc</td>\n",
       "      <td>neu</td>\n",
       "    </tr>\n",
       "    <tr>\n",
       "      <th>1</th>\n",
       "      <td>that s true corona virus swine flue bird flu ...</td>\n",
       "      <td>neu</td>\n",
       "    </tr>\n",
       "    <tr>\n",
       "      <th>2</th>\n",
       "      <td>tldr not sars possibly new coronavirus difficu...</td>\n",
       "      <td>neg</td>\n",
       "    </tr>\n",
       "    <tr>\n",
       "      <th>3</th>\n",
       "      <td>disease outbreak news from the who middle east...</td>\n",
       "      <td>neu</td>\n",
       "    </tr>\n",
       "    <tr>\n",
       "      <th>4</th>\n",
       "      <td>china media wsj says sources tell them mystery...</td>\n",
       "      <td>neu</td>\n",
       "    </tr>\n",
       "  </tbody>\n",
       "</table>\n",
       "</div>"
      ],
      "text/plain": [
       "                                               tweet label\n",
       "0           coronavirus human coronavirus types cdc    neu\n",
       "1   that s true corona virus swine flue bird flu ...   neu\n",
       "2  tldr not sars possibly new coronavirus difficu...   neg\n",
       "3  disease outbreak news from the who middle east...   neu\n",
       "4  china media wsj says sources tell them mystery...   neu"
      ]
     },
     "execution_count": 20,
     "metadata": {},
     "output_type": "execute_result"
    }
   ],
   "source": [
    "df.head()"
   ]
  },
  {
   "cell_type": "code",
   "execution_count": 21,
   "id": "0487dd24",
   "metadata": {},
   "outputs": [],
   "source": [
    "# Removing short words\n",
    "df['tweet'] = df['tweet'].apply(lambda x: ' '.join([w for w in x.split() if len(w) > 2]))"
   ]
  },
  {
   "cell_type": "code",
   "execution_count": 22,
   "id": "349184a9",
   "metadata": {},
   "outputs": [
    {
     "data": {
      "text/html": [
       "<div>\n",
       "<style scoped>\n",
       "    .dataframe tbody tr th:only-of-type {\n",
       "        vertical-align: middle;\n",
       "    }\n",
       "\n",
       "    .dataframe tbody tr th {\n",
       "        vertical-align: top;\n",
       "    }\n",
       "\n",
       "    .dataframe thead th {\n",
       "        text-align: right;\n",
       "    }\n",
       "</style>\n",
       "<table border=\"1\" class=\"dataframe\">\n",
       "  <thead>\n",
       "    <tr style=\"text-align: right;\">\n",
       "      <th></th>\n",
       "      <th>tweet</th>\n",
       "      <th>label</th>\n",
       "    </tr>\n",
       "  </thead>\n",
       "  <tbody>\n",
       "    <tr>\n",
       "      <th>0</th>\n",
       "      <td>coronavirus human coronavirus types cdc</td>\n",
       "      <td>neu</td>\n",
       "    </tr>\n",
       "    <tr>\n",
       "      <th>1</th>\n",
       "      <td>that true corona virus swine flue bird flu dec...</td>\n",
       "      <td>neu</td>\n",
       "    </tr>\n",
       "    <tr>\n",
       "      <th>2</th>\n",
       "      <td>tldr not sars possibly new coronavirus difficu...</td>\n",
       "      <td>neg</td>\n",
       "    </tr>\n",
       "    <tr>\n",
       "      <th>3</th>\n",
       "      <td>disease outbreak news from the who middle east...</td>\n",
       "      <td>neu</td>\n",
       "    </tr>\n",
       "    <tr>\n",
       "      <th>4</th>\n",
       "      <td>china media wsj says sources tell them mystery...</td>\n",
       "      <td>neu</td>\n",
       "    </tr>\n",
       "  </tbody>\n",
       "</table>\n",
       "</div>"
      ],
      "text/plain": [
       "                                               tweet label\n",
       "0            coronavirus human coronavirus types cdc   neu\n",
       "1  that true corona virus swine flue bird flu dec...   neu\n",
       "2  tldr not sars possibly new coronavirus difficu...   neg\n",
       "3  disease outbreak news from the who middle east...   neu\n",
       "4  china media wsj says sources tell them mystery...   neu"
      ]
     },
     "execution_count": 22,
     "metadata": {},
     "output_type": "execute_result"
    }
   ],
   "source": [
    "df.head()"
   ]
  },
  {
   "cell_type": "code",
   "execution_count": 23,
   "id": "c9ac29ae",
   "metadata": {},
   "outputs": [
    {
     "data": {
      "text/plain": [
       "'genome sequence the new coronavirus associated with pneumonia cluster wuhan china'"
      ]
     },
     "execution_count": 23,
     "metadata": {},
     "output_type": "execute_result"
    }
   ],
   "source": [
    "df[df['label']=='neu'].loc[17,'tweet']"
   ]
  },
  {
   "cell_type": "code",
   "execution_count": 24,
   "id": "b09f3e20",
   "metadata": {},
   "outputs": [],
   "source": [
    "# Creating new variable tokenized tweet \n",
    "tokenized_tweet = df['tweet'].apply(lambda x: x.split())"
   ]
  },
  {
   "cell_type": "code",
   "execution_count": 25,
   "id": "776dbe19",
   "metadata": {},
   "outputs": [
    {
     "data": {
      "text/plain": [
       "0        [coronavirus, human, coronavirus, types, cdc]\n",
       "1    [that, true, corona, virus, swine, flue, bird,...\n",
       "2    [tldr, not, sars, possibly, new, coronavirus, ...\n",
       "3    [disease, outbreak, news, from, the, who, midd...\n",
       "4    [china, media, wsj, says, sources, tell, them,...\n",
       "Name: tweet, dtype: object"
      ]
     },
     "execution_count": 25,
     "metadata": {},
     "output_type": "execute_result"
    }
   ],
   "source": [
    "tokenized_tweet[:5]"
   ]
  },
  {
   "cell_type": "code",
   "execution_count": 26,
   "id": "2891afac",
   "metadata": {},
   "outputs": [
    {
     "name": "stderr",
     "output_type": "stream",
     "text": [
      "[nltk_data] Downloading package wordnet to\n",
      "[nltk_data]     C:\\Users\\Sourav\\AppData\\Roaming\\nltk_data...\n",
      "[nltk_data]   Package wordnet is already up-to-date!\n",
      "[nltk_data] Downloading package omw-1.4 to\n",
      "[nltk_data]     C:\\Users\\Sourav\\AppData\\Roaming\\nltk_data...\n",
      "[nltk_data]   Package omw-1.4 is already up-to-date!\n"
     ]
    },
    {
     "data": {
      "text/plain": [
       "True"
      ]
     },
     "execution_count": 26,
     "metadata": {},
     "output_type": "execute_result"
    }
   ],
   "source": [
    "#Importing required resources\n",
    "import nltk\n",
    "nltk.download('wordnet')\n",
    "nltk.download('omw-1.4')"
   ]
  },
  {
   "cell_type": "code",
   "execution_count": 27,
   "id": "a1bfd585",
   "metadata": {},
   "outputs": [],
   "source": [
    "# Importing necessary modules\n",
    "#from nltk.stem import WordNetLemmatizer\n",
    "  \n",
    "#lemmatizer = WordNetLemmatizer()\n",
    "  \n",
    "# Applying Lemmatizer for tokenized_tweet\n",
    "#tokenized_tweet = tokenized_tweet.apply(lambda x: [lemmatizer.lemmatize(i) for i in x])"
   ]
  },
  {
   "cell_type": "code",
   "execution_count": 28,
   "id": "7813fdbc",
   "metadata": {},
   "outputs": [],
   "source": [
    "# stemming\n",
    "\n",
    "from nltk.stem.porter import *\n",
    "stemmer = PorterStemmer()\n",
    "\n",
    "# apply stemmer for tokenized_tweet\n",
    "tokenized_tweet = tokenized_tweet.apply(lambda x: [stemmer.stem(i) for i in x])"
   ]
  },
  {
   "cell_type": "code",
   "execution_count": 29,
   "id": "006e7df8",
   "metadata": {},
   "outputs": [
    {
     "data": {
      "text/plain": [
       "0           [coronaviru, human, coronaviru, type, cdc]\n",
       "1    [that, true, corona, viru, swine, flue, bird, ...\n",
       "2    [tldr, not, sar, possibl, new, coronaviru, dif...\n",
       "3    [diseas, outbreak, news, from, the, who, middl...\n",
       "4    [china, media, wsj, say, sourc, tell, them, my...\n",
       "Name: tweet, dtype: object"
      ]
     },
     "execution_count": 29,
     "metadata": {},
     "output_type": "execute_result"
    }
   ],
   "source": [
    "tokenized_tweet[:5]"
   ]
  },
  {
   "cell_type": "code",
   "execution_count": 30,
   "id": "4be8143d",
   "metadata": {},
   "outputs": [],
   "source": [
    "# Join tokens into one sentence\n",
    "for i in range(len(tokenized_tweet)):\n",
    "    tokenized_tweet[i] = ' '.join(tokenized_tweet[i])\n",
    "# change df['Tweet'] to tokenized_tweet"
   ]
  },
  {
   "cell_type": "code",
   "execution_count": 31,
   "id": "5b42cf56",
   "metadata": {},
   "outputs": [],
   "source": [
    "df['Tweet']  = tokenized_tweet"
   ]
  },
  {
   "cell_type": "code",
   "execution_count": 32,
   "id": "6acaa1be",
   "metadata": {},
   "outputs": [],
   "source": [
    "df.drop('tweet',axis=1,inplace=True)"
   ]
  },
  {
   "cell_type": "code",
   "execution_count": 33,
   "id": "305fd329",
   "metadata": {},
   "outputs": [
    {
     "data": {
      "text/html": [
       "<div>\n",
       "<style scoped>\n",
       "    .dataframe tbody tr th:only-of-type {\n",
       "        vertical-align: middle;\n",
       "    }\n",
       "\n",
       "    .dataframe tbody tr th {\n",
       "        vertical-align: top;\n",
       "    }\n",
       "\n",
       "    .dataframe thead th {\n",
       "        text-align: right;\n",
       "    }\n",
       "</style>\n",
       "<table border=\"1\" class=\"dataframe\">\n",
       "  <thead>\n",
       "    <tr style=\"text-align: right;\">\n",
       "      <th></th>\n",
       "      <th>label</th>\n",
       "      <th>Tweet</th>\n",
       "    </tr>\n",
       "  </thead>\n",
       "  <tbody>\n",
       "    <tr>\n",
       "      <th>0</th>\n",
       "      <td>neu</td>\n",
       "      <td>coronaviru human coronaviru type cdc</td>\n",
       "    </tr>\n",
       "    <tr>\n",
       "      <th>1</th>\n",
       "      <td>neu</td>\n",
       "      <td>that true corona viru swine flue bird flu dece...</td>\n",
       "    </tr>\n",
       "    <tr>\n",
       "      <th>2</th>\n",
       "      <td>neg</td>\n",
       "      <td>tldr not sar possibl new coronaviru difficult ...</td>\n",
       "    </tr>\n",
       "    <tr>\n",
       "      <th>3</th>\n",
       "      <td>neu</td>\n",
       "      <td>diseas outbreak news from the who middl east r...</td>\n",
       "    </tr>\n",
       "    <tr>\n",
       "      <th>4</th>\n",
       "      <td>neu</td>\n",
       "      <td>china media wsj say sourc tell them mysteri pn...</td>\n",
       "    </tr>\n",
       "  </tbody>\n",
       "</table>\n",
       "</div>"
      ],
      "text/plain": [
       "  label                                              Tweet\n",
       "0   neu               coronaviru human coronaviru type cdc\n",
       "1   neu  that true corona viru swine flue bird flu dece...\n",
       "2   neg  tldr not sar possibl new coronaviru difficult ...\n",
       "3   neu  diseas outbreak news from the who middl east r...\n",
       "4   neu  china media wsj say sourc tell them mysteri pn..."
      ]
     },
     "execution_count": 33,
     "metadata": {},
     "output_type": "execute_result"
    }
   ],
   "source": [
    "df.head()"
   ]
  },
  {
   "cell_type": "code",
   "execution_count": 34,
   "id": "c0442ad7",
   "metadata": {},
   "outputs": [
    {
     "data": {
      "image/png": "[encoded data removed]",
      "text/plain": [
       "<Figure size 432x288 with 1 Axes>"
      ]
     },
     "metadata": {
      "needs_background": "light"
     },
     "output_type": "display_data"
    }
   ],
   "source": [
    "import seaborn as sns\n",
    "\n",
    "sns.countplot(x=\"label\", data=df)\n",
    "plt.show()"
   ]
  },
  {
   "cell_type": "code",
   "execution_count": 35,
   "id": "8996ffce",
   "metadata": {},
   "outputs": [],
   "source": [
    "X = df['Tweet']\n",
    "y = df['label']"
   ]
  },
  {
   "cell_type": "code",
   "execution_count": 36,
   "id": "2b9ff084",
   "metadata": {},
   "outputs": [],
   "source": [
    "# Splitting the dataset into training and test set\n",
    "from sklearn.model_selection import train_test_split\n",
    "X_train, X_test, y_train, y_test = train_test_split(X, y,test_size = 0.3, random_state = 0)"
   ]
  },
  {
   "cell_type": "code",
   "execution_count": 37,
   "id": "75b33023",
   "metadata": {},
   "outputs": [],
   "source": [
    "from sklearn.feature_extraction.text import TfidfVectorizer\n",
    "\n",
    "tfidf_vect = TfidfVectorizer(max_features = 5000)\n",
    "tfidf_vect.fit(df['Tweet'])\n",
    "X_train_tfidf = tfidf_vect.transform(X_train)\n",
    "X_test_tfidf = tfidf_vect.transform(X_test)"
   ]
  },
  {
   "cell_type": "code",
   "execution_count": 38,
   "id": "275909e1",
   "metadata": {},
   "outputs": [
    {
     "name": "stdout",
     "output_type": "stream",
     "text": [
      "  (0, 4342)\t0.17627110553131367\n",
      "  (0, 2304)\t0.670531751514671\n",
      "  (0, 1566)\t0.5024084601979811\n",
      "  (0, 909)\t0.10415530917148966\n",
      "  (0, 78)\t0.5060168754679246\n",
      "  (1, 4895)\t0.20763216951937274\n",
      "  (1, 4450)\t0.4333298827274691\n",
      "  (1, 4447)\t0.3367919315546907\n",
      "  (1, 3187)\t0.2988686550994555\n",
      "  (1, 2949)\t0.3090286285619518\n",
      "  (1, 2682)\t0.27436055193799735\n",
      "  (1, 1637)\t0.29156807634611187\n",
      "  (1, 909)\t0.052752311616031236\n",
      "  (1, 695)\t0.12404136163968728\n",
      "  (1, 690)\t0.3221271124954192\n",
      "  (1, 666)\t0.3665659291277615\n",
      "  (1, 147)\t0.23296554487693258\n",
      "  (2, 4406)\t0.30660034476466197\n",
      "  (2, 4341)\t0.23412952685999885\n",
      "  (2, 3266)\t0.4090013003772608\n",
      "  (2, 2516)\t0.40130924150741326\n",
      "  (2, 2405)\t0.3931812099685709\n",
      "  (2, 1634)\t0.1995605841985096\n",
      "  (2, 1588)\t0.2743101233317863\n",
      "  (2, 1433)\t0.46824143866317885\n",
      "  :\t:\n",
      "  (20996, 2175)\t0.21864043499160268\n",
      "  (20996, 1438)\t0.3573097202290839\n",
      "  (20996, 898)\t0.16907521607413062\n",
      "  (20996, 382)\t0.33440519876503094\n",
      "  (20996, 158)\t0.1560265759275382\n",
      "  (20997, 4855)\t0.39800309141613605\n",
      "  (20997, 4802)\t0.5391959598011017\n",
      "  (20997, 1088)\t0.7347782243237873\n",
      "  (20997, 909)\t0.10470060752903883\n",
      "  (20998, 4422)\t0.34836602041804726\n",
      "  (20998, 4160)\t0.30937593959219345\n",
      "  (20998, 4093)\t0.3083890678482311\n",
      "  (20998, 4001)\t0.29127187381943975\n",
      "  (20998, 3185)\t0.30394220981710623\n",
      "  (20998, 2032)\t0.30600112445444166\n",
      "  (20998, 1613)\t0.4191421362061561\n",
      "  (20998, 1482)\t0.4191421362061561\n",
      "  (20998, 909)\t0.06002610298272415\n",
      "  (20998, 75)\t0.24900516735772943\n",
      "  (20999, 4342)\t0.1547829866172696\n",
      "  (20999, 3074)\t0.32097980294482564\n",
      "  (20999, 2939)\t0.3962149323054036\n",
      "  (20999, 1718)\t0.5839070109488512\n",
      "  (20999, 909)\t0.09145838041359741\n",
      "  (20999, 794)\t0.6055707124609504\n"
     ]
    }
   ],
   "source": [
    "print(X_train_tfidf)"
   ]
  },
  {
   "cell_type": "code",
   "execution_count": 39,
   "id": "f13a9134",
   "metadata": {},
   "outputs": [
    {
     "name": "stdout",
     "output_type": "stream",
     "text": [
      "  (0, 4799)\t0.34261472710627666\n",
      "  (0, 4707)\t0.13351598753247038\n",
      "  (0, 4342)\t0.08530775429338622\n",
      "  (0, 2971)\t0.23998141765817935\n",
      "  (0, 2472)\t0.19724256311960667\n",
      "  (0, 1674)\t0.29528814580820856\n",
      "  (0, 1548)\t0.27315852255673323\n",
      "  (0, 1410)\t0.3519735001804327\n",
      "  (0, 1304)\t0.380423642737007\n",
      "  (0, 1217)\t0.37419780603446634\n",
      "  (0, 1199)\t0.2326726621018658\n",
      "  (0, 953)\t0.22517243504096035\n",
      "  (0, 898)\t0.14135644782519918\n",
      "  (0, 702)\t0.1741917833733807\n",
      "  (0, 119)\t0.18817474092216138\n",
      "  (1, 4486)\t0.3493820162947222\n",
      "  (1, 4342)\t0.10734824331638464\n",
      "  (1, 4088)\t0.3003398952049028\n",
      "  (1, 3059)\t0.2624730703516679\n",
      "  (1, 2888)\t0.25283046751216715\n",
      "  (1, 2804)\t0.2696562353885312\n",
      "  (1, 2183)\t0.3339305771148553\n",
      "  (1, 2175)\t0.23002370123237414\n",
      "  (1, 1141)\t0.3277154647577033\n",
      "  (1, 909)\t0.06343007515572716\n",
      "  :\t:\n",
      "  (8997, 400)\t0.4152509656711668\n",
      "  (8997, 359)\t0.3951294652379873\n",
      "  (8998, 4975)\t0.21239209824684174\n",
      "  (8998, 4054)\t0.4266645800405539\n",
      "  (8998, 3997)\t0.36291591950119273\n",
      "  (8998, 3978)\t0.3512679984178015\n",
      "  (8998, 2472)\t0.24356717423495566\n",
      "  (8998, 1277)\t0.3590963154945486\n",
      "  (8998, 909)\t0.062245350059757114\n",
      "  (8998, 620)\t0.3291818496342063\n",
      "  (8998, 488)\t0.2864939908072506\n",
      "  (8998, 370)\t0.3676420116545326\n",
      "  (8999, 4610)\t0.2581922552933149\n",
      "  (8999, 4342)\t0.11233834514357893\n",
      "  (8999, 3520)\t0.2534304244290557\n",
      "  (8999, 3157)\t0.3823824661684386\n",
      "  (8999, 2888)\t0.26458333592366434\n",
      "  (8999, 2831)\t0.2166017709262105\n",
      "  (8999, 2281)\t0.38523340953646534\n",
      "  (8999, 2175)\t0.24071639313264737\n",
      "  (8999, 1695)\t0.19870515676495176\n",
      "  (8999, 909)\t0.06637863327046768\n",
      "  (8999, 611)\t0.19243490812246872\n",
      "  (8999, 394)\t0.41334224631101035\n",
      "  (8999, 378)\t0.36773744134298403\n"
     ]
    }
   ],
   "source": [
    "print(X_test_tfidf)"
   ]
  },
  {
   "cell_type": "code",
   "execution_count": 40,
   "id": "ceb97297",
   "metadata": {},
   "outputs": [
    {
     "name": "stdout",
     "output_type": "stream",
     "text": [
      "{'coronaviru': 909, 'human': 2078, 'type': 4538, 'cdc': 635, 'that': 4341, 'true': 4508, 'corona': 898, 'viru': 4707, 'swine': 4245, 'bird': 421, 'flu': 1616, 'decemb': 1075, 'when': 4821, 'whole': 4837, 'busi': 552, 'tldr': 4413, 'not': 2882, 'sar': 3690, 'possibl': 3185, 'new': 2831, 'difficult': 1171, 'confirm': 840, 'becaus': 365, 'patient': 3059, 'identifi': 2105, 'later': 2407, 'infect': 2175, 'diseas': 1199, 'outbreak': 2977, 'news': 2839, 'from': 1695, 'the': 4342, 'who': 4835, 'middl': 2667, 'east': 1318, 'respiratori': 3549, 'syndrom': 4257, 'mer': 2647, 'cov': 959, 'unit': 4585, 'arab': 218, 'china': 695, 'media': 2630, 'wsj': 4921, 'say': 3701, 'sourc': 4000, 'tell': 4309, 'them': 4347, 'mysteri': 2783, 'pneumonia': 3157, 'someth': 3978, 'ha': 1887, 'been': 369, 'caus': 626, 'same': 3677, 'famili': 1514, 'and': 158, 'virologist': 4705, 'weigh': 4794, 'novel': 2888, 'chines': 702, 'author': 286, 'have': 1937, 'made': 2550, 'preliminari': 3217, 'determin': 1144, 'hospit': 2055, 'whi': 4826, 'ccp': 632, 'keep': 2332, 'unknown': 4589, 'obvious': 2914, 'relat': 3487, 'let': 2450, 'report': 3520, 'ill': 2111, 'may': 2617, 'strain': 4133, 'alway': 137, 'feel': 1548, 'weird': 4797, 'hope': 2047, 'for': 1634, 'anoth': 174, 'ration': 3415, 'our': 2971, 'research': 3536, 'trace': 4458, 'cnet': 760, 'wuhan': 4929, 'bbc': 353, 'health': 1954, 'advisori': 64, 'about': 12, 'ask': 249, 'with': 4873, 'sever': 3800, 'scientist': 3723, 'put': 3338, 'unusu': 4604, 'scari': 3710, 'scale': 3703, 'make': 2567, 'it': 2259, 'debut': 1071, 'score': 3726, 'out': 2973, 'mask': 2605, 'genom': 1758, 'sequenc': 3786, 'associ': 258, 'cluster': 757, 'crap': 971, 'quick': 3370, 'blast': 435, 'search': 3742, 'suggest': 4188, 'look': 2519, 'like': 2472, 'bat': 342, 'lab': 2382, 'find': 1578, 'death': 1067, 'cbc': 631, 'first': 1588, 'jan': 2280, 'all': 119, 'interim': 2218, 'guidanc': 1879, 'technic': 4299, 'document': 1232, 'will': 4855, 'updat': 4610, 'need': 2813, 'there': 4354, 'call': 568, 'transpar': 4478, 'data': 1047, 'share': 3813, 'concern': 826, 'wuhanpneumonia': 4939, 'releas': 3490, 'genet': 1755, 'now': 2891, 'deadli': 1059, 'babi': 306, 'born': 464, 'pic': 3110, 'isn': 2253, 'current': 1018, 'spread': 4050, 'wpro': 4911, 'ncov': 2804, 'allow': 124, 'countri': 953, 'develop': 1148, 'thailand': 4338, 'travel': 4481, 'form': 1649, 'accord': 28, 'offici': 2924, 'good': 1815, 'hasn': 1932, 'seafood': 3740, 'market': 2599, 'major': 2565, 'transport': 4479, 'hub': 2072, 'close': 747, 'brace': 481, 'yourself': 4979, 'america': 143, 'thi': 4359, 'nasti': 2797, 'amp': 152, 'killer': 2349, 'japan': 2282, 'second': 3748, 'substanti': 4177, 'more': 2741, 'case': 611, 'fear': 1537, 'caught': 625, 'die': 1168, 'three': 4377, 'airport': 102, 'screen': 3734, 'passeng': 3050, 'issu': 2258, 'warn': 4754, 'after': 75, 'wuhansar': 4940, 'viral': 4701, 'symptom': 4255, 'entri': 1386, 'airlin': 99, 'amid': 147, 'lax': 2419, 'other': 2969, 'illn': 2114, 'rais': 3391, 'question': 3367, 'found': 1657, 'export': 1480, 'citi': 724, 'sinc': 3891, 'wtf': 4922, 'sound': 3997, 'than': 4339, 'mani': 2583, 'initi': 2188, 'thought': 4371, 'through': 4380, 'contact': 861, 'where': 4823, 'world': 4895, 'stand': 4075, 'emerg': 1356, 'some': 3974, 'estim': 1416, 'number': 2900, 'peopl': 3074, 'check': 680, 'least': 2431, 'suspect': 4229, 'shenzhen': 3824, 'shanghai': 3810, 'hundr': 2084, 'also': 133, 'grossli': 1862, 'underestim': 4569, 'studi': 4161, 'cnn': 762, 'alreadi': 131, 'ani': 166, 'idea': 2104, 'what': 4817, 'cost': 940, 'newli': 2836, 'test': 4331, 'alert': 110, 'korea': 2373, 'seem': 3760, 'pretti': 3234, 'bad': 313, 'are': 222, 'worri': 4900, 'could': 947, 'mutat': 2778, 'into': 2224, 'even': 1430, 'potent': 3188, 'modeloviru': 2718, 'surg': 4216, 'jump': 2316, 'again': 77, 'leap': 2429, 'latest': 2408, 'blog': 440, 'which': 4828, 'doesn': 1238, 'includ': 2148, 'factbox': 1497, 'fuell': 1706, 'post': 3186, 'know': 2365, 'publish': 3320, 'trend': 4489, 'tourist': 4449, 'come': 788, 'nepal': 2823, 'take': 4271, 'epidem': 1394, 'neighbor': 2818, 'veri': 4670, 'beij': 378, 'break': 488, 'silenc': 3880, 'but': 556, 'onli': 2941, 'deni': 1113, 'rumour': 3642, 'transmiss': 4475, 'immin': 2124, 'head': 1947, 'govern': 1828, 'expert': 1472, 'team': 4296, 'state': 4088, 'york': 4974, 'time': 4406, 'zero': 4985, 'hedg': 1971, 'detect': 1143, 'well': 4802, 'thailan': 4337, 'contagi': 863, 'said': 3667, 'zhong': 4990, 'infecti': 2176, 'globalhealth': 1794, 'had': 1891, 'last': 2405, 'year': 4963, 'drink': 1277, 'bottl': 470, 'south': 4001, 'you': 4975, 'think': 4364, 'reach': 3426, 'tougher': 4446, 'stanc': 4074, 'adopt': 58, 'your': 4978, 'hear': 1958, 'might': 2671, 'next': 2847, 'plagu': 3130, 'still': 4113, 'virgin': 4702, 'anim': 167, 'barrier': 335, 'pand': 3022, 'transmit': 4476, 'nation': 2798, 'hold': 2026, 'meet': 2635, 'asia': 246, 'global': 1792, 'hysteria': 2095, 'should': 3847, 'their': 4346, 'pun': 3327, 'joke': 2306, 'old': 2931, 'mean': 2623, 'friday': 1686, 'night': 2856, 'wrap': 4912, 'tonight': 4430, 'touch': 4444, 'daili': 1032, 'watch': 4766, 'dog': 1240, 'meat': 2628, 'trade': 4461, 'definit': 1095, 'cover': 961, 'be': 356, 'truth': 4513, 'over': 2991, 'extend': 1484, 'across': 35, 'planet': 3136, 'person': 3089, 'can': 579, 'between': 394, 'gover': 1827, 'known': 2367, 'freak': 1672, 'realli': 3437, 'danger': 1040, 'influenza': 2180, 'kill': 2348, 'anyway': 194, 'border': 461, 'cant': 587, 'enter': 1382, 'sick': 3868, 'abc': 4, 'how': 2067, 'treatment': 4486, 'prevent': 3235, 'pregnanc': 3214, 'get': 1770, 'scare': 3708, 'medic': 2631, 'hazmat': 1944, 'suit': 4191, 'air': 93, 'plane': 3135, 'worker': 4892, 'doe': 1237, 'far': 1520, 'low': 2531, 'mortal': 2747, 'rate': 3413, 'scienc': 3721, 'aaa': 0, 'tou': 4443, 'struck': 4155, 'most': 2750, 'whom': 4838, 'ahead': 87, 'period': 3082, 'racial': 3383, 'group': 1864, 'ff': 1559, 'rather': 3414, 'go': 1799, 'waiv': 4737, 'chang': 663, 'fee': 1546, 'want': 4748, 'leav': 2432, 'earlier': 1310, 'due': 1293, 'wa': 4733, 'here': 1988, 'video': 4687, 'explain': 1473, 'billi': 407, 'ray': 3419, 'won': 4884, 'ton': 4427, 'soup': 3998, 'ban': 324, 'read': 3429, 'articl': 239, 'don': 1247, 'exactli': 1445, 'brisban': 505, 'man': 2578, 'return': 3565, 'cousin': 958, 'began': 373, 'music': 2775, 'tech': 4298, 'boston': 466, 'doctor': 1231, 'everyon': 1437, 'wari': 4752, 'organ': 2964, 'rise': 3599, 'expect': 1467, 'wors': 4902, 'xenophobia': 4948, 'rampant': 3399, 'everi': 1434, 'just': 2318, 'slice': 3922, 'lime': 2476, 'citizen': 725, 'advis': 63, 'wear': 4779, 'particularli': 3047, 'befor': 371, 'third': 4365, 'fourth': 1661, 'prepar': 3220, 'monkey': 2732, 'life': 2467, 'mount': 2756, 'claim': 728, 'start': 4083, 'prompt': 3279, 'sfo': 3802, 'top': 4434, 'twitter': 4536, 'wild': 4850, 'origin': 2967, 'nah': 2786, 'tast': 4285, 'better': 393, 'forex': 1644, 'today': 4415, 'optimist': 2958, 'trump': 4511, 'davo': 1051, 'child': 691, 'posit': 3184, 'cebu': 638, 'javier': 2284, 'hern': 1989, 'ndez': 2808, 'austin': 282, 'via': 4677, 'nyt': 2907, 'australia': 283, 'flight': 1607, 'resid': 3539, 'boost': 460, 'yike': 4971, 'cni': 761, 'doh': 1241, 'admit': 57, 'continu': 873, 'dead': 1057, 'weekend': 4791, 'they': 4358, 'trip': 4500, 'real': 3433, 'carri': 605, 'give': 1786, 'scientif': 3722, 'natur': 2800, 'cure': 1014, 'tuesday': 4521, 'anyon': 192, 'face': 1491, 'none': 2872, 'jame': 2278, 'whether': 4825, 'januari': 2281, 'pathogen': 3057, 'fami': 1513, 'high': 1997, 'risk': 3601, 'capit': 592, 'sixth': 3906, 'victim': 4683, 'holiday': 2030, 'heighten': 1974, 'almost': 125, 'occupi': 2915, 'herald': 1985, 'sun': 4196, 'mostli': 2751, 'colleg': 781, 'coverup': 963, 'kiss': 2356, 'hahaha': 1893, 'unless': 4591, 'public': 3317, 'help': 1981, 'fanci': 1517, 'talk': 4275, 'cat': 617, 'dont': 1252, 'one': 2939, 'tho': 4366, 'then': 4350, 'ive': 2268, 'land': 2396, 'soil': 3964, 'quickli': 3372, 'marketwatch': 2601, 'announc': 170, 'way': 4769, 'fast': 1525, 'felt': 1551, 'everyth': 1438, 'hell': 1978, 'pack': 3011, 'thing': 4362, 'washington': 4759, 'catch': 620, 'discov': 1194, 'folk': 1623, 'see': 3758, 'never': 2830, 'friend': 1687, 'believ': 382, 'declar': 1079, 'immedi': 2122, 'sorri': 3991, 'kinda': 2352, 'flop': 1612, 'btstour': 524, 'dow': 1260, 'fall': 1507, 'point': 3161, 'big': 403, 'declin': 1080, 'boe': 452, 'republ': 3527, 'patent': 3055, 'arriv': 236, 'chicago': 688, 'hare': 1922, 'american': 144, 'bro': 510, 'stem': 4100, 'threaten': 4376, 'further': 1721, 'bring': 503, 'netflix': 2826, 'farm': 1521, 'hang': 1913, 'goat': 1802, 'while': 4829, 'els': 1351, 'bout': 475, 'situat': 3904, 'summari': 4194, 'usa': 4624, 'yet': 4969, 'reportedli': 3521, 'shut': 3860, 'foreign': 1641, 'seattl': 3746, 'int': 2209, 'induc': 2169, 'chanc': 662, 'buy': 558, 'unrel': 4600, 'stock': 4118, 'jim': 2296, 'cramer': 970, 'expand': 1466, 'welcom': 4799, 'begun': 375, 'pleas': 3147, 'practic': 3195, 'social': 3957, 'hygien': 2091, 'model': 2716, 'simul': 3889, 'iran': 2241, 'doomsday': 1254, 'loom': 2520, 'guy': 1885, 'california': 567, 'preventiva': 3236, 'ant': 177, 'sicken': 3869, 'six': 3905, 'prime': 3242, 'minist': 2690, 'scott': 3728, 'morrison': 2745, 'evolv': 1443, 'fuck': 1702, 'hillari': 2005, 'clinton': 743, 'mom': 2723, 'ago': 84, 'told': 4422, 'diagnos': 1153, 'week': 4790, 'avoid': 296, 'multipl': 2770, 'australian': 284, 'mad': 2549, 'money': 2728, 'uncertainti': 4560, 'ceo': 648, 'wife': 4846, 'tri': 4492, 'boy': 479, 'contract': 875, 'down': 1261, 'semi': 3772, 'liter': 2487, 'function': 1713, 'staff': 4067, 'temperatur': 4312, 'begin': 374, 'jamaica': 2277, 'treat': 4485, 'press': 3229, 'becom': 366, 'million': 2682, 'rememb': 3504, 'light': 2470, 'recent': 3447, 'note': 2883, 'virus': 4709, 'bitch': 427, 'stay': 4093, 'away': 301, 'heard': 1959, 'got': 1821, 'racist': 3385, 'scene': 3714, 'learn': 2430, 'drive': 1279, 'uber': 4543, 'russia': 3650, 'india': 2161, 'live': 2492, 'nine': 2861, 'horror': 2054, 'sweep': 4241, 'globe': 1796, 'comm': 791, 'stori': 4129, 'show': 3851, 'connect': 845, 'appli': 208, 'intern': 2220, 'antidot': 184, 'appar': 203, 'por': 3177, 'del': 1097, 'sir': 3900, 'came': 571, 'assum': 259, 'impact': 2128, 'montreal': 2734, 'follow': 1624, 'snohomish': 3951, 'counti': 951, 'confus': 843, 'compani': 808, 'macau': 2547, 'hong': 2041, 'kong': 2371, 'econom': 1326, 'name': 2791, 'these': 4357, 'hangov': 1914, 'word': 4889, 'drunk': 1288, 'off': 2920, 'parti': 3042, 'nail': 2788, 'pillar': 3118, 'shame': 3808, 'provinc': 3302, 'care': 598, 'vigil': 4691, 'wynn': 4944, 'special': 4016, 'administr': 54, 'region': 3478, 'coordin': 887, 'center': 644, 'move': 2760, 'quarantin': 3358, 'must': 2777, 'fail': 1502, 'asshol': 255, 'tabl': 4261, 'inform': 2183, 'map': 2590, 'etc': 1417, 'examin': 1447, 'wont': 4886, 'russian': 3651, 'iranian': 2242, 'north': 2878, 'korean': 2374, 'english': 1375, 'raymond': 3420, 'item': 2264, 'broadcast': 511, 'ladi': 2389, 'toll': 4424, 'spectat': 4019, 'index': 2160, 'cathay': 621, 'cabin': 564, 'crew': 982, 'mainland': 2560, 'differ': 1170, 'ground': 1863, 'exist': 1463, 'impli': 2133, 'grappl': 1845, 'dure': 1300, 'lunar': 2539, 'run': 3643, 'page': 3014, 'spi': 4025, 'doubl': 1258, 'mind': 2685, 'corpor': 935, 'creat': 974, 'vaccin': 4638, 'lucki': 2538, 'happen': 1915, 'long': 2516, 'end': 1367, 'healthcar': 1955, 'economist': 1328, 'whatev': 4819, 'grave': 1847, 'superspread': 4202, 'brain': 483, 'surgeri': 4217, 'until': 4602, 'lead': 2424, 'seriou': 3790, 'correct': 937, 'blockchain': 439, 'pandem': 3024, 'hit': 2016, 'increas': 2152, 'around': 233, 'hate': 1934, 'jinp': 2297, 'month': 2733, 'gotten': 1823, 'round': 3625, 'substanc': 4176, 'fish': 1590, 'mark': 2598, 'frustrat': 1699, 'climb': 741, 'adapt': 45, 'key': 2341, 'grow': 1865, 'destin': 1138, 'goodby': 1816, 'actual': 41, 'gonna': 1814, 'imag': 2117, 'wwiii': 4943, 'climat': 739, 'monitor': 2731, 'precaut': 3207, 'npr': 2894, 'trust': 4512, 'total': 4441, 'under': 4568, 'control': 878, 'commerc': 796, 'player': 3143, 'eas': 1314, 'freez': 1677, 'price': 3240, 'disinfect': 1203, 'link': 2482, 'anticip': 183, 'cancel': 583, 'blow': 444, 'yesterday': 4968, 'likelihood': 2473, 'finland': 1582, 'togeth': 4418, 'heathrow': 1966, 'separ': 3785, 'area': 223, 'precautionari': 3208, 'measur': 2627, 'regi': 3476, 'great': 1849, 'shape': 3812, 'plan': 3134, 'egypt': 1339, 'highli': 2000, 'stop': 4126, 'olymp': 2933, 'box': 478, 'qualifi': 3350, 'review': 3574, 'pari': 3038, 'back': 309, 'she': 3818, 'cook': 884, 'secretari': 3752, 'howev': 2068, 'sell': 3768, 'protect': 3292, 'pose': 3183, 'leadership': 2426, 'reuter': 3569, 'object': 2910, 'import': 2135, 'ever': 1433, 'ramp': 3397, 'day': 1054, 'smash': 3937, 'coupl': 954, 'impeach': 2129, 'jeff': 2288, 'bezo': 397, 'wednesday': 4787, 'brief': 499, 'contain': 867, 'deadass': 1058, 'abt': 17, 'wash': 4758, 'hand': 1909, 'kid': 2347, 'longer': 2517, 'spark': 4013, 'wider': 4842, 'dear': 1065, 'given': 1787, 'lee': 2437, 'sincer': 3892, 'canada': 580, 'threat': 4375, 'turkey': 4525, 'particular': 3046, 'room': 3619, 'inspect': 2200, 'dax': 1053, 'slow': 3927, 'struggl': 4157, 'berni': 389, 'harri': 1925, 'deal': 1062, 'chill': 693, 'sharpli': 3815, 'mid': 2665, 'tackl': 4263, 'impeachmenttri': 2130, 'describ': 1132, 'delet': 1101, 'previou': 3237, 'tweet': 4532, 'thread': 4374, 'were': 4806, 'pick': 3111, 'ghana': 1772, 'shit': 3833, 'would': 4907, 'kenya': 2334, 'step': 4101, 'surveil': 4222, 'act': 36, 'publi': 3316, 'effort': 1337, 'depress': 1125, 'ad': 43, 'hubei': 2073, 'oversea': 2999, 'forc': 1637, 'rethink': 3562, 'chin': 694, 'conduct': 833, 'atlanta': 267, 'employ': 1362, 'holi': 2029, 'less': 2448, 'wait': 4736, 'anyth': 193, 'inbound': 2144, 'ourselv': 2972, 'puzzl': 3340, 'piec': 3114, 'smell': 3938, 'against': 78, 'chinaviru': 699, 'simpli': 3887, 'proactiv': 3256, 'panic': 3027, 'two': 4537, 'tip': 4410, 'technolog': 4300, 'aint': 92, 'play': 3142, 'inc': 2145, 'smh': 3939, 'cite': 723, 'regul': 3481, 'combat': 786, 'henri': 1983, 'provinci': 3303, 'offic': 2923, 'join': 2304, 'clock': 745, 'weaker': 4774, 'morn': 2743, 'establish': 1414, 'idk': 2107, 'interest': 2217, 'rapidli': 3408, 'food': 1626, 'poison': 3163, 'lot': 2528, 'order': 2961, 'spreader': 4051, 'too': 4431, 'mayb': 2618, 'shield': 3826, 'system': 4259, 'five': 1593, 'wedg': 4786, 'affect': 69, 'afp': 70, 'probabl': 3258, 'fire': 1585, 'gun': 1882, 'girl': 1783, 'choos': 710, 'fighter': 1567, 'fulfil': 1709, 'eve': 1429, 'few': 1557, 'confer': 835, 'alarm': 108, 'crisi': 987, 'open': 2949, 'aliexpress': 117, 'packag': 3012, 'belt': 385, 'fresh': 1683, 'free': 1674, 'reveal': 3570, 'bug': 533, 'turn': 4527, 'ghost': 1774, 'emphas': 1361, 'gold': 1807, 'process': 3264, 'yep': 4967, 'isol': 2255, 'someon': 3977, 'proper': 3283, 'work': 4891, 'tomorrow': 4426, 'overwhelm': 3004, 'earthquak': 1313, 'contamin': 868, 'kazakhstan': 2331, 'reckon': 3450, 'thank': 4340, 'much': 2767, 'extraordinari': 1487, 'respons': 3552, 'matter': 2615, 'black': 432, 'white': 4834, 'communist': 806, 'halt': 1902, 'losangel': 2523, 'cut': 1022, 'despit': 1137, 'professor': 3269, 'spanish': 4011, 'full': 1710, 'indian': 2162, 'student': 4160, 'anxiou': 189, 'virul': 4708, 'committe': 802, 'gain': 1729, 'lake': 2393, 'apt': 217, 'nvax': 2904, 'potenti': 3189, 'gap': 1735, 'train': 4469, 'critic': 989, 'nightmar': 2857, 'station': 4090, 'bu': 526, 'okay': 2929, 'similar': 3884, 'clearli': 736, 'wrong': 4919, 'effect': 1336, 'did': 1165, 'demand': 1109, 'beer': 370, 'lock': 2507, 'widespread': 4843, 'fatal': 1528, 'drastic': 1270, 'slowli': 3929, 'sure': 4214, 'limit': 2477, 'popul': 3175, 'billion': 408, 'nice': 2851, 'scaremong': 3709, 'restrict': 3556, 'wildlif': 4853, 'taken': 4272, 'underway': 4575, 'right': 3592, 'himself': 2008, 'becam': 364, 'mexico': 2657, 'visit': 4715, 'newsgrit': 2842, 'damn': 1036, 'movi': 2762, 'decid': 1077, 'thursday': 4390, 'constitut': 854, 'postpon': 3187, 'decis': 1078, 'pork': 3179, 'pig': 3115, 'wth': 4923, 'stunt': 4166, 'goe': 1804, 'promot': 3278, 'task': 4284, 'secur': 3757, 'info': 2181, 'gener': 1754, 'nuke': 2899, 'greenland': 1855, 'otherwis': 2970, 'suspend': 4230, 'spre': 4048, 'rapid': 3407, 'consist': 850, 'seek': 3759, 'suspens': 4231, 'heart': 1960, 'sketch': 3910, 'readi': 3431, 'meanwhil': 2625, 'cnbc': 759, 'escal': 1407, 'safe': 3663, 'handl': 1910, 'hack': 1889, 'phone': 3105, 'littl': 2489, 'went': 4805, 'fli': 1606, 'berlin': 388, 'german': 1768, 'phrase': 3107, 'common': 804, 'term': 4323, 'varieti': 4652, 'seven': 3797, 'stronger': 4153, 'action': 37, 'ori': 2966, 'downplay': 1264, 'huh': 2076, 'inf': 2172, 'pakistan': 3018, 'ali': 114, 'walk': 4742, 'dodg': 1235, 'mouth': 2759, 'stick': 4109, 'thumb': 4388, 'transit': 4473, 'copi': 890, 'zerohedg': 4986, 'bar': 331, 'gotta': 1822, 'ingat': 2184, 'daw': 1052, 'sic': 3866, 'ngl': 2848, 'moscow': 2749, 'worrisom': 4901, 'pollut': 3170, 'taiwan': 4269, 'disea': 1198, 'seal': 3741, 'each': 1308, 'privat': 3251, 'messag': 2651, 'use': 4626, 'robot': 3610, 'view': 4689, 'certain': 650, 'place': 3129, 'itself': 2265, 'ppl': 3194, 'fearmong': 1538, 'solar': 3965, 'yall': 4957, 'clean': 734, 'street': 4141, 'interview': 2223, 'guangzhou': 1871, 'southern': 4004, 'email': 1353, 'deport': 1124, 'lol': 2513, 'brexit': 496, 'wet': 4814, 'photo': 3106, 'shop': 3839, 'hot': 2058, 'spring': 4054, 'add': 46, 'tourism': 4448, 'tour': 4447, 'budget': 531, 'wouldn': 4908, 'surpris': 4220, 'shot': 3846, 'best': 391, 'guess': 1876, 'send': 3775, 'locat': 2506, 'impos': 2136, 'terrifi': 4326, 'podcast': 3160, 'episod': 1397, 'wanna': 4747, 'hous': 2065, 'shutdown': 3861, 'listen': 2486, 'pop': 3174, 'song': 3984, 'gave': 1744, 'snake': 3946, 'legit': 2443, 'headach': 1948, 'past': 3051, 'happi': 1916, 'tactic': 4264, 'novemb': 2890, 'event': 1431, 'aid': 89, 'horrif': 2052, 'disturb': 1219, 'footag': 1630, 'visual': 4717, 'guid': 1878, 'purpos': 3335, 'abl': 9, 'crowd': 993, 'front': 1696, 'line': 2478, 'facil': 1495, 'record': 3454, 'symbol': 4252, 'unnerv': 4595, 'woke': 4880, 'kag': 2322, 'elect': 1345, 'forexl': 1645, 'complet': 815, 'asian': 247, 'rattl': 3416, 'depart': 1119, 'investig': 2232, 'consumpt': 859, 'eat': 1320, 'file': 1569, 'usual': 4630, 'adam': 44, 'ser': 3787, 'lmao': 2497, 'slew': 3921, 'retard': 3561, 'understand': 4574, 'resist': 3543, 'antibiot': 181, 'pass': 3049, 'washyourhand': 4760, 'queue': 3368, 'outsid': 2987, 'airborn': 95, 'yung': 4983, 'lockdown': 2508, 'consid': 849, 'epicent': 1391, 'outbrea': 2976, 'dust': 1302, 'flee': 1604, 'gross': 1861, 'blame': 433, 'serv': 3792, 'restaur': 3555, 'warm': 4753, 'shrink': 3854, 'activ': 38, 'beg': 372, 'wuhanchina': 4931, 'beyond': 396, 'steel': 4099, 'car': 595, 'spici': 4027, 'noodl': 2874, 'nigerian': 2854, 'tribun': 4494, 'drag': 1268, 'anxieti': 188, 'saw': 3700, 'app': 202, 'star': 4080, 'observ': 2911, 'gent': 1759, 'red': 3459, 'side': 3870, 'grip': 1859, 'investor': 2233, 'custom': 1021, 'mexican': 2656, 'insid': 2197, 'strategi': 4137, 'seen': 3761, 'swan': 4236, 'london': 2515, 'non': 2871, 'specif': 4018, 'clear': 735, 'peter': 3093, 'oooo': 2946, 'offer': 2922, 'kit': 2357, 'blown': 446, 'commun': 805, 'design': 1135, 'own': 3006, 'applic': 209, 'sta': 4063, 'lago': 2390, 'govt': 1831, 'timelin': 4407, 'irish': 2245, 'town': 4455, 'her': 1984, 'count': 949, 'hesit': 1991, 'statement': 4089, 'fight': 1566, 'khabarhub': 2344, 'cours': 956, 'pray': 3201, 'jeremi': 2290, 'koala': 2368, 'huanggang': 2070, 'indoor': 2168, 'venu': 4667, 'guangdong': 1870, 'serious': 3791, 'local': 2505, 'celebr': 639, 'sold': 3966, 'ye': 4960, 'terribl': 4325, 'brazil': 486, 'remind': 3505, 'publ': 3315, 'coronavirusoutbreak': 920, 'coronoviru': 933, 'ass': 250, 'caution': 627, 'scan': 3706, 'cholera': 708, 'bubon': 528, 'prep': 3219, 'codx': 771, 'diagnost': 1155, 'platform': 3141, 'didn': 1166, 'pre': 3206, 'condit': 831, 'such': 4182, 'bewar': 395, 'regularli': 3483, 'cannot': 586, 'anger': 162, 'do': 1228, 'nigeria': 2853, 'venezuela': 4663, 'tien': 4397, 'color': 782, 'huawei': 2071, 'woman': 4881, 'hide': 1996, 'franc': 1667, 'brag': 482, 'onlin': 2942, 'march': 2595, 'late': 2406, 'april': 216, 'uae': 4540, 'distract': 1215, 'duh': 1294, 'retreat': 3564, 'appetit': 206, 'growth': 1867, 'macao': 2546, 'philippin': 3102, 'accept': 23, 'appear': 205, 'accid': 25, 'stuck': 4158, 'breakfast': 490, 'thursdaythought': 4391, 'wuhancoronaviru': 4932, 'singapor': 3894, 'film': 1572, 'contagion': 865, 'channel': 664, 'japanes': 2283, 'level': 2455, 'unclear': 4563, 'decad': 1073, 'biggest': 405, 'load': 2502, 'nonsens': 2873, 'nh': 2849, 'plagueinc': 3131, 'acceler': 22, 'nnvc': 2865, 'bodi': 451, 'texa': 4332, 'sent': 3781, 'andrew': 159, 'dubai': 1290, 'implement': 2132, 'bitcoin': 428, 'plung': 3154, 'profit': 3271, 'loss': 2526, 'ministri': 2691, 'dive': 1221, 'fxstreet': 1725, 'unitedst': 4586, 'within': 4875, 'vietnam': 4688, 'gear': 1750, 'alongsid': 128, 'breed': 495, 'oil': 2928, 'trader': 4462, 'scotland': 3727, 'four': 1659, 'mention': 2646, 'filipino': 1570, 'guardian': 1874, 'build': 535, 'februari': 1541, 'unpreced': 4598, 'wuhanviru': 4941, 'epidemiolog': 1395, 'healthi': 1956, 'cold': 776, 'save': 3699, 'nurs': 2902, 'saudi': 3696, 'peop': 3073, 'short': 3842, 'btc': 523, 'replac': 3516, 'northern': 2879, 'ireland': 2244, 'wake': 4739, 'chat': 676, 'economi': 1327, 'canadian': 581, 'prudent': 3305, 'futur': 1722, 'pois': 3162, 'session': 3794, 'remain': 3500, 'sadli': 3662, 'game': 1732, 'freakin': 1673, 'easili': 1317, 'previous': 3238, 'smartnew': 3935, 'factori': 1499, 'restart': 3554, 'scandal': 3707, 'qanon': 3341, 'rumor': 3641, 'dna': 1227, 'react': 3427, 'god': 1803, 'bid': 401, 'disrupt': 1212, 'punish': 3330, 'uighur': 4550, 'muslim': 2776, 'gov': 1825, 'laboratori': 2384, 'done': 1251, 'summer': 4195, 'fell': 1549, 'idiot': 2106, 'kung': 2378, 'publichealth': 3318, 'drill': 1276, 'giant': 1777, 'upcom': 4609, 'ca': 562, 'signal': 3877, 'hongkong': 2042, 'dedic': 1082, 'lightn': 2471, 'vancouv': 4647, 'toronto': 4438, 'tool': 4433, 'fan': 1516, 'vacat': 4636, 'belfast': 380, 'centr': 645, 'mother': 2753, 'angri': 164, 'shake': 3806, 'parasit': 3035, 'feed': 1547, 'shock': 3835, 'collaps': 778, 'teacher': 4295, 'wit': 4872, 'terror': 4328, 'edg': 1329, 'coast': 765, 'refin': 3464, 'output': 2985, 'birthday': 425, 'delay': 1098, 'plastic': 3139, 'tube': 4519, 'stuff': 4163, 'bit': 426, 'funni': 1718, 'counter': 950, 'cough': 945, 'spell': 4022, 'sign': 3876, 'written': 4918, 'opinion': 2952, 'drip': 1278, 'racism': 3384, 'evid': 1440, 'somewhat': 3980, 'exercis': 1460, 'widen': 4841, 'simpl': 3886, 'conspiraci': 851, 'arabia': 219, 'hiv': 2017, 'proteas': 3291, 'inhibit': 2186, 'replic': 3518, 'algo': 112, 'fed': 1544, 'alibaba': 115, 'coffe': 772, 'pressur': 3230, 'deepen': 1085, 'politico': 3168, 'prefer': 3213, 'both': 467, 'provid': 3301, 'repres': 3523, 'colleagu': 779, 'fro': 1693, 'revolt': 3577, 'mail': 2558, 'scottish': 3729, 'indonesia': 2166, 'tend': 4317, 'forget': 1646, 'typic': 4539, 'droplet': 1285, 'que': 3361, 'ano': 172, 'fansign': 1518, 'concert': 827, 'ima': 2116, 'soon': 3987, 'seventeen': 3798, 'forev': 1643, 'wish': 4871, 'evil': 1441, 'suddenli': 4186, 'disappear': 1188, 'ebola': 1323, 'cont': 860, 'fifth': 1564, 'rush': 3649, 'hi': 1994, 'grant': 1842, 'inovio': 2193, 'launch': 2412, 'africa': 72, 'dem': 1108, 'dey': 1150, 'spotlight': 4044, 'earli': 1309, 'owner': 3007, 'bill': 406, 'melinda': 2638, 'gate': 1740, 'french': 1680, 'didnt': 1167, 'fox': 1662, 'bruh': 519, 'documentari': 1233, 'pet': 3092, 'remov': 3507, 'coul': 946, 'dan': 1038, 'although': 136, 'scenario': 3713, 'itali': 2260, 'italian': 2262, 'coronaviruschina': 912, 'wall': 4743, 'wisconsin': 4869, 'dalla': 1034, 'cina': 718, 'con': 821, 'aren': 224, 'spray': 4047, 'mild': 2676, 'larg': 2401, 'option': 2959, 'compar': 809, 'curiou': 1016, 'mon': 2725, 'contr': 874, 'qui': 3369, 'date': 1048, 'est': 1412, 'dude': 1292, 'jean': 2286, 'paul': 3061, 'locust': 2509, 'sharp': 3814, 'home': 2032, 'matt': 2614, 'hancock': 1908, 'john': 2301, 'malaysia': 2572, 'near': 2809, 'thu': 4386, 'editori': 1331, 'besid': 390, 'chinapneumonia': 697, 'chinacoronaviru': 696, 'sydney': 4250, 'bushfir': 551, 'smoke': 3943, 'au': 276, 'transmitt': 4477, 'spook': 4041, 'recov': 3456, 'outlin': 2982, 'recommend': 3452, 'instal': 2203, 'anti': 180, 'alleg': 121, 'journalist': 2310, 'graphic': 1844, 'entir': 1384, 'wipe': 4866, 'swear': 4238, 'sit': 3902, 'googl': 1818, 'trynna': 4516, 'justic': 2319, 'illeg': 2112, 'univers': 4588, 'cultur': 1009, 'midst': 2670, 'rat': 3412, 'laugh': 2411, 'surround': 4221, 'sanit': 3685, 'danc': 1039, 'fool': 1628, 'demonstr': 1112, 'reservoir': 3538, 'voic': 4722, 'mirror': 2696, 'insan': 2195, 'financi': 1577, 'rest': 3553, 'worst': 4905, 'newspap': 2844, 'random': 3401, 'comment': 794, 'suck': 4183, 'nsw': 2896, 'engin': 1373, 'houston': 2066, 'vid': 4685, 'often': 2925, 'raw': 3418, 'wonder': 4885, 'ate': 264, 'stupid': 4167, 'dept': 1126, 'rudi': 3637, 'doc': 1229, 'journal': 2309, 'supposedli': 4210, 'hotel': 2060, 'refus': 3471, 'upend': 4611, 'wasn': 4761, 'iphon': 2240, 'theori': 4351, 'paper': 3030, 'fascin': 1522, 'insight': 2198, 'lyme': 2543, 'attempt': 271, 'zombi': 4994, 'apocalyps': 199, 'support': 4208, 'vaxxer': 4655, 'frighten': 1690, 'foundat': 1658, 'fund': 1714, 'hat': 1933, 'alien': 116, 'noth': 2884, 'except': 1453, 'congress': 844, 'agenc': 80, 'longest': 2518, 'taal': 4260, 'erupt': 1406, 'seri': 3788, 'present': 3226, 'invent': 2230, 'bronchiti': 514, 'mass': 2606, 'brand': 484, 'manag': 2579, 'scratch': 3732, 'valley': 4641, 'those': 4368, 'detail': 1141, 'breakdown': 489, 'dia': 1152, 'buri': 547, 'highest': 1999, 'took': 4432, 'tower': 4453, 'diario': 1160, 'root': 3621, 'season': 3744, 'trial': 4493, 'speak': 4014, 'extra': 1486, 'nhk': 2850, 'notic': 2885, 'healt': 1953, 'tradit': 4463, 'medicin': 2633, 'eight': 1340, 'fact': 1496, 'antibodi': 182, 'campu': 578, 'safeti': 3666, 'switch': 4249, 'modelo': 2717, 'lo': 2501, 'tokyo': 4421, 'spur': 4055, 'militari': 2679, 'personnel': 3090, 'sneez': 3949, 'finish': 1581, 'faster': 1526, 'yellow': 4965, 'metal': 2653, 'suffer': 4187, 'domin': 1245, 'newsvideo': 2846, 'breakingnew': 491, 'youtub': 4981, 'worldwid': 4899, 'risen': 3600, 'commiss': 799, 'feder': 1545, 'court': 957, 'secretli': 3753, 'site': 3903, 'throughout': 4381, 'excus': 1457, 'toward': 4452, 'bed': 367, 'nseupdat': 2895, 'crazi': 973, 'biosafeti': 417, 'kerala': 2339, 'trap': 4480, 'wuh': 4927, 'neighbour': 2819, 'countr': 952, 'track': 4459, 'receiv': 3446, 'carmak': 602, 'luxuri': 2542, 'jersey': 2292, 'exposur': 1482, 'cb': 630, 'women': 4883, 'race': 3381, 'contai': 866, 'firm': 1586, 'nasdaq': 2796, 'eye': 1489, 'earn': 1311, 'gild': 1779, 'omg': 2936, 'tennesse': 4318, 'undergo': 4570, 'weak': 4772, 'immun': 2125, 'tht': 4385, 'estat': 1415, 'entertain': 1383, 'prey': 3239, 'thousand': 4372, 'unconfirm': 4565, 'decent': 1076, 'cosplay': 939, 'pl': 3127, 'cautiou': 628, 'regardless': 3475, 'calm': 569, 'plu': 3151, 'tanker': 4279, 'crash': 972, 'spr': 4046, 'discuss': 1197, 'men': 2643, 'anymor': 191, 'embassi': 1354, 'cheat': 679, 'chine': 701, 'hunt': 2086, 'brought': 517, 'memori': 2642, 'epid': 1393, 'dozen': 1267, 'mike': 2673, 'esp': 1409, 'southeast': 4003, 'club': 754, 'lost': 2527, 'cell': 640, 'spike': 4028, 'hyster': 2094, 'nobodi': 2866, 'block': 438, 'road': 3608, 'motor': 2755, 'vehicl': 4660, 'proof': 3281, 'sing': 3893, 'valu': 4642, 'burn': 548, 'half': 1900, 'suppli': 4205, 'flat': 1601, 'disneyland': 1207, 'park': 3039, 'product': 3266, 'unnecessari': 4594, 'neo': 2822, 'shore': 3841, 'zombieland': 4995, 'lie': 2465, 'desert': 1133, 'patrol': 3060, 'love': 2529, 'wire': 4867, 'whose': 4839, 'tryin': 4514, 'suspicion': 4233, 'surviv': 4224, 'zealand': 4984, 'industri': 2170, 'escap': 1408, 'websit': 4783, 'bunch': 543, 'british': 508, 'resort': 3545, 'saturday': 3695, 'lethal': 2451, 'headquart': 1950, 'tire': 4411, 'self': 3766, 'small': 3932, 'chao': 666, 'strike': 4148, 'flood': 1610, 'zika': 4991, 'retweetnew': 3567, 'prc': 3205, 'reduc': 3461, 'disney': 1206, 'temporari': 4313, 'closur': 749, 'oott': 2947, 'yonhap': 4973, 'figur': 1568, 'higher': 1998, 'wuhancoronoviru': 4934, 'wuhanflu': 4935, 'overnight': 2996, 'list': 2485, 'retweet': 3566, 'johor': 2303, 'moh': 2722, 'bloodi': 442, 'central': 646, 'rtr': 3633, 'governor': 1830, 'protein': 3293, 'attent': 273, 'instead': 2205, 'repli': 3517, 'comedi': 789, 'among': 149, 'kingdom': 2355, 'dose': 1256, 'germ': 1767, 'guidelin': 1880, 'lack': 2386, 'basic': 340, 'implic': 2134, 'epicentr': 1392, 'unabl': 4556, 'lower': 2532, 'speed': 4021, 'susp': 4228, 'trigger': 4498, 'debat': 1068, 'magazin': 2553, 'ang': 160, 'talaga': 4274, 'especi': 1410, 'super': 4199, 'volcano': 4724, 'swarm': 4237, 'west': 4809, 'roll': 3615, 'favorit': 1533, 'segment': 3762, 'ongo': 2940, 'organis': 2965, 'distanc': 1214, 'chongq': 709, 'mcdonald': 2620, 'amidst': 148, 'petit': 3094, 'renam': 3508, 'coronavirus': 910, 'stricter': 4147, 'target': 4282, 'curb': 1013, 'rebound': 3442, 'aussi': 281, 'rba': 3421, 'bet': 392, 'yen': 4966, 'auspol': 280, 'everybodi': 1435, 'him': 2007, 'yang': 4958, 'flew': 1605, 'deceas': 1074, 'ralli': 3393, 'predict': 3211, 'ran': 3400, 'energi': 1369, 'bearish': 359, 'mood': 2735, 'winner': 4863, 'equip': 1401, 'awar': 299, 'fret': 1684, 'yeah': 4962, 'corps': 936, 'left': 2438, 'floor': 1611, 'lesson': 2449, 'zone': 4996, 'battl': 348, 'jazeera': 2285, 'bio': 412, 'weapon': 4777, 'thr': 4373, 'exclus': 1456, 'rose': 3622, 'moment': 2724, 'program': 3272, 'soar': 3955, 'conven': 880, 'hey': 1992, 'gamer': 1733, 'avail': 292, 'chart': 672, 'weekli': 4792, 'scroll': 3736, 'style': 4168, 'scholar': 3717, 'ontario': 2944, 'solut': 3971, 'sensit': 3780, 'below': 384, 'set': 3795, 'villag': 4694, 'display': 1208, 'flare': 1599, 'fine': 1579, 'till': 4404, 'homi': 2035, 'complex': 816, 'easier': 1316, 'result': 3558, 'hour': 2064, 'quit': 3374, 'disappoint': 1189, 'refer': 3462, 'sprea': 4049, 'epic': 1390, 'invad': 2229, 'glad': 1788, 'sec': 3747, 'midnight': 2669, 'steve': 4105, 'freed': 1675, 'commentari': 795, 'equiti': 1402, 'standard': 4076, 'everywher': 1439, 'coronoaviru': 931, 'unbeliev': 4557, 'manufactur': 2589, 'destroy': 1139, 'neg': 2814, 'sky': 3915, 'smallpox': 3933, 'illinoi': 2113, 'hav': 1936, 'rock': 3611, 'school': 3718, 'print': 3246, 'host': 2056, 'outb': 2974, 'deploy': 1122, 'assist': 257, 'shift': 3827, 'approach': 212, 'meme': 2641, 'fun': 1712, 'soldier': 3967, 'duti': 1305, 'regard': 3474, 'experienc': 1470, 'coincid': 773, 'israel': 2257, 'ugh': 4547, 'pace': 3009, 'built': 536, 'hire': 2013, 'snow': 3952, 'camera': 573, 'violat': 4696, 'address': 48, 'hard': 1918, 'hop': 2046, 'princ': 3243, 'penc': 3069, 'select': 3765, 'cepi': 649, 'biohazard': 414, 'coverag': 962, 'clinic': 742, 'rerout': 3532, 'behind': 377, 'upgrad': 4613, 'partial': 3043, 'mumbai': 2772, 'ward': 4750, 'drop': 1284, 'headlin': 1949, 'young': 4976, 'indic': 2164, 'visitor': 4716, 'temp': 4311, 'incub': 2155, 'parent': 3037, 'reveng': 3571, 'depth': 1127, 'ramif': 3396, 'respir': 3548, 'port': 3181, 'servic': 3793, 'gon': 1811, 'phase': 3099, 'captur': 594, 'enough': 1380, 'resourc': 3546, 'crown': 994, 'detain': 1142, 'europ': 1423, 'calcul': 565, 'somebodi': 3975, 'plain': 3132, 'bye': 561, 'minnesota': 2692, 'abov': 13, 'cross': 992, 'britain': 507, 'facemask': 1493, 'beat': 361, 'pirbright': 3123, 'institut': 2206, 'shelv': 3823, 'sale': 3671, 'creation': 975, 'eff': 1335, 'speci': 4015, 'jesu': 2293, 'enforc': 1370, 'greater': 1850, 'stan': 4073, 'nct': 2806, 'repeat': 3514, 'mine': 2686, 'write': 4916, 'whenev': 4822, 'giv': 1785, 'chlorin': 704, 'dioxid': 1178, 'bleach': 436, 'pure': 3333, 'dream': 1273, 'shoot': 3838, 'briton': 509, 'shown': 3853, 'rail': 3389, 'rip': 3596, 'capabl': 589, 'afraid': 71, 'metro': 2655, 'qualiti': 3351, 'coronavir': 907, 'lancet': 2395, 'wow': 4910, 'everyday': 1436, 'urgent': 4622, 'festiv': 1555, 'bt': 522, 'awesom': 302, 'thingi': 4363, 'kick': 2346, 'onc': 2938, 'reason': 3440, 'boutta': 476, 'class': 733, 'bay': 350, 'buddi': 530, 'honestli': 2039, 'bull': 537, 'presid': 3227, 'throw': 4382, 'isnt': 2254, 'belong': 383, 'circul': 721, 'faculti': 1500, 'imperi': 2131, 'forbidden': 1636, 'haven': 1938, 'rthk': 3632, 'hype': 2092, 'msm': 2766, 'discharg': 1191, 'dish': 1202, 'version': 4672, 'concept': 824, 'acknowledg': 33, 'pay': 3063, 'respect': 3547, 'huge': 2075, 'dat': 1046, 'cordon': 893, 'allah': 120, 'refresh': 3467, 'field': 1563, 'germani': 1769, 'ravag': 3417, 'boom': 459, 'forgiv': 1647, 'lord': 2522, 'wildfir': 4852, 'spam': 4010, 'wan': 4745, 'maryland': 2604, 'advic': 62, 'traffic': 4464, 'outlet': 2981, 'coronaroviru': 902, 'exceed': 1451, 'sister': 3901, 'latin': 2410, 'caribbean': 601, 'polit': 3166, 'pain': 3016, 'dare': 1042, 'tag': 4265, 'liar': 2458, 'european': 1424, 'lose': 2524, 'sector': 3756, 'mortgag': 2748, 'nbc': 2803, 'stream': 4140, 'cope': 889, 'attract': 275, 'download': 1263, 'mobil': 2713, 'exponenti': 1479, 'foo': 1625, 'baylor': 351, 'attenu': 274, 'hello': 1980, 'hotlin': 2061, 'analysi': 154, 'nigga': 2855, 'madison': 2551, 'director': 1184, 'foun': 1656, 'stress': 4144, 'cuz': 1024, 'donald': 1248, 'surgic': 4218, 'gove': 1826, 'humor': 2081, 'stricken': 4145, 'fashion': 1524, 'dom': 1243, 'mf': 2658, 'meant': 2624, 'african': 73, 'focu': 1620, 'absolut': 16, 'storag': 4127, 'alon': 126, 'ten': 4315, 'bless': 437, 'deat': 1066, 'moodi': 2736, 'mil': 2674, 'wor': 4888, 'vitamin': 4719, 'frequent': 1682, 'senat': 3774, 'tom': 4425, 'cotton': 942, 'knew': 2362, 'repeatedli': 3515, 'boss': 465, 'featur': 1539, 'ahem': 88, 'ain': 91, 'pan': 3021, 'sunday': 4197, 'flown': 1615, 'chi': 687, 'rundown': 3644, 'husband': 2090, 'user': 4628, 'final': 1575, 'expos': 1481, 'art': 238, 'cctv': 634, 'network': 2828, 'either': 1342, 'analyst': 155, 'upon': 4615, 'regist': 3479, 'nearli': 2810, 'deserv': 1134, 'chan': 661, 'meal': 2622, 'biotech': 418, 'finna': 1583, 'foot': 1629, 'su': 4170, 'fundrais': 1716, 'verifi': 4671, 'part': 3041, 'push': 3336, 'taylor': 4289, 'swift': 4243, 'solid': 3969, 'fill': 1571, 'deadliest': 1061, 'victoria': 4684, 'airplan': 100, 'vendor': 4662, 'construct': 855, 'brother': 516, 'tick': 4394, 'unpopular': 4597, 'carolina': 604, 'miss': 2702, 'myself': 2782, 'assess': 253, 'nejm': 2821, 'perspect': 3091, 'melbourn': 2637, 'newpap': 2837, 'fake': 1506, 'carrier': 607, 'nervou': 2825, 'circl': 720, 'diagnosi': 1154, 'kind': 2351, 'tbh': 4292, 'selloff': 3770, 'saskatchewan': 3693, 'green': 1854, 'beach': 357, 'horizon': 2049, 'corrupt': 938, 'upfront': 4612, 'extrem': 1488, 'hopkin': 2048, 'hei': 1972, 'fat': 1527, 'ignor': 2109, 'simpson': 3888, 'advanc': 60, 'paranoid': 3034, 'imma': 2121, 'soap': 3954, 'karma': 2325, 'dumb': 1295, 'erad': 1403, 'tune': 4523, 'prior': 3247, 'appeal': 204, 'prayer': 3202, 'armi': 232, 'knowledg': 2366, 'transfer': 4472, 'buhari': 534, 'sens': 3777, 'selfish': 3767, 'bullshit': 541, 'frm': 1692, 'bang': 325, 'henan': 1982, 'kat': 2328, 'invest': 2231, 'strategist': 4138, 'bud': 529, 'uncl': 4562, 'yourselv': 4980, 'fema': 1552, 'propos': 3289, 'law': 2415, 'colorado': 783, 'without': 4876, 'glove': 1797, 'unrol': 4601, 'nak': 2790, 'fiction': 1562, 'gone': 1812, 'bag': 315, 'rid': 3588, 'wuflu': 4926, 'tru': 4505, 'strong': 4152, 'elimin': 1348, 'stone': 4125, 'window': 4859, 'sour': 3999, 'urg': 4621, 'prison': 3250, 'coat': 766, 'percentag': 3077, 'shatter': 3816, 'safeguard': 3664, 'rich': 3583, 'cycl': 1027, 'particl': 3045, 'amazon': 139, 'plz': 3155, 'necessari': 2812, 'grew': 1857, 'crude': 996, 'coro': 896, 'ugli': 4548, 'conceal': 822, 'nationwid': 2799, 'leader': 2425, 'earth': 1312, 'lad': 2388, 'proud': 3297, 'spoke': 4036, 'xinjiang': 4952, 'versu': 4673, 'loos': 2521, 'warfar': 4751, 'largest': 2402, 'christian': 713, 'misinform': 2698, 'studio': 4162, 'citywid': 726, 'easi': 1315, 'inject': 2189, 'somehow': 3976, 'resolv': 3544, 'anywher': 195, 'zimbabw': 4993, 'unprepar': 4599, 'devast': 1147, 'toilet': 4420, 'ecdc': 1324, 'moot': 2738, 'malaysian': 2573, 'tracker': 4460, 'soleimani': 3968, 'murder': 2773, 'slump': 3930, 'nuclear': 2897, 'queensland': 3364, 'pile': 3117, 'swing': 4247, 'disagre': 1187, 'proport': 3288, 'socialist': 3958, 'biolog': 415, 'liverpool': 2493, 'vick': 4681, 'ish': 2250, 'gut': 1884, 'per': 3075, 'minim': 2689, 'express': 1483, 'certainli': 651, 'stigma': 4110, 'led': 2436, 'ccpchina': 633, 'whoever': 4836, 'amaz': 138, 'useless': 4627, 'confess': 836, 'lassa': 2404, 'fever': 1556, 'teenag': 4304, 'wayn': 4770, 'ocean': 2917, 'throat': 4379, 'sore': 3990, 'individu': 2165, 'arrang': 234, 'protest': 3294, 'reschedul': 3533, 'viewer': 4690, 'minut': 2694, 'suppos': 4209, 'taught': 4286, 'religion': 3497, 'surfac': 4215, 'bullish': 540, 'multi': 2769, 'educ': 1332, 'finger': 1580, 'base': 337, 'imagin': 2118, 'gateway': 1741, 'prioriti': 3249, 'specialist': 4017, 'evacu': 1426, 'campaign': 576, 'dress': 1274, 'fault': 1532, 'occur': 2916, 'guard': 1873, 'nowher': 2893, 'excit': 1454, 'sudden': 4185, 'normal': 2877, 'chair': 655, 'durham': 1301, 'realtim': 3439, 'mere': 2648, 'background': 310, 'angel': 161, 'org': 2963, 'psl': 3308, 'bride': 498, 'vibe': 4678, 'sad': 3660, 'shall': 3807, 'monday': 2726, 'artist': 242, 'schedul': 3715, 'statu': 4092, 'repost': 3522, 'diplomat': 1180, 'haha': 1892, 'inspir': 2201, 'highlight': 2001, 'skill': 3912, 'deadlier': 1060, 'epidemiologist': 1396, 'profession': 3268, 'regim': 3477, 'overview': 3002, 'biologist': 416, 'kayo': 2330, 'genocid': 1757, 'chemic': 683, 'odd': 2918, 'agent': 82, 'beast': 360, 'cup': 1010, 'somewher': 3981, 'broken': 513, 'lowkey': 2534, 'answer': 176, 'faith': 1505, 'evalu': 1428, 'realiti': 3435, 'fir': 1584, 'bali': 322, 'accus': 31, 'subscrib': 4174, 'desper': 1136, 'hotspot': 2063, 'virolog': 4704, 'dramat': 1269, 'soft': 3961, 'member': 2640, 'exclud': 1455, 'fruit': 1698, 'son': 3982, 'accur': 30, 'kindli': 2353, 'charter': 673, 'casualti': 616, 'havoc': 1939, 'languag': 2399, 'incur': 2156, 'agreement': 86, 'war': 4749, 'poor': 3173, 'though': 4370, 'remedi': 3503, 'age': 79, 'experiment': 1471, 'coronaoutbreak': 899, 'coronarviru': 903, 'theater': 4343, 'agre': 85, 'digit': 1175, 'hidden': 1995, 'rep': 3512, 'inhuman': 2187, 'todat': 4414, 'nebraska': 2811, 'clan': 729, 'radio': 3386, 'psycholog': 3310, 'exact': 1444, 'bigger': 404, 'corner': 895, 'board': 449, 'wil': 4848, 'queen': 3363, 'massiv': 2608, 'alot': 129, 'geopolit': 1763, 'dec': 1072, 'forum': 1654, 'hmm': 2018, 'concentr': 823, 'camp': 575, 'tortur': 4439, 'thru': 4384, 'win': 4857, 'censor': 641, 'ateez': 265, 'nih': 2858, 'arizona': 227, 'inappropri': 2143, 'icu': 2102, 'delicaci': 1104, 'presumpt': 3232, 'pod': 3159, 'variant': 4651, 'prone': 3280, 'store': 4128, 'core': 894, 'flaw': 1602, 'strength': 4142, 'compil': 813, 'ambul': 142, 'chief': 690, 'choic': 706, 'cdnpoli': 636, 'recreat': 3458, 'rage': 3387, 'echo': 1325, 'blood': 441, 'histori': 2015, 'materi': 2612, 'clout': 752, 'knock': 2364, 'door': 1255, 'prolli': 3276, 'uhm': 4549, 'aggress': 83, 'space': 4007, 'sat': 3694, 'dev': 1146, 'jama': 2276, 'fiweh': 1594, 'blue': 447, 'reaction': 3428, 'swiftli': 4244, 'plead': 3146, 'centuri': 647, 'beaten': 362, 'increa': 2151, 'refrain': 3466, 'credibl': 978, 'laid': 2392, 'commerci': 797, 'dad': 1030, 'abroad': 14, 'recal': 3444, 'daughter': 1049, 'topic': 4436, 'bank': 329, 'tim': 4405, 'appl': 207, 'donat': 1250, 'relief': 3495, 'problem': 3260, 'conveni': 881, 'wuhanlockdown': 4937, 'challeng': 658, 'bottom': 471, 'fate': 1529, 'carbon': 596, 'footprint': 1633, 'tryna': 4515, 'leg': 2440, 'ltimo': 2536, 'moderna': 2720, 'potu': 3190, 'troop': 4503, 'asap': 243, 'upward': 4619, 'heath': 1965, 'smith': 3941, 'tfw': 4334, 'trudeau': 4507, 'liber': 2459, 'anthem': 178, 'san': 3680, 'francisco': 1669, 'hurt': 2089, 'novelcoronaviru': 2889, 'edit': 1330, 'crush': 1001, 'certifi': 652, 'wesleyan': 4808, 'consul': 856, 'heat': 1964, 'sunnybrook': 4198, 'maga': 2552, 'titl': 4412, 'feb': 1540, 'opportun': 2953, 'credit': 979, 'southkorea': 4005, 'fortun': 1653, 'propaganda': 3282, 'deep': 1084, 'algorithm': 113, 'honest': 2038, 'cute': 1023, 'honey': 2040, 'dashboard': 1045, 'vast': 4654, 'plainli': 3133, 'latestnew': 2409, 'sht': 3856, 'western': 4811, 'spreadin': 4052, 'screw': 3735, 'tenni': 4319, 'attend': 272, 'seoul': 3784, 'tha': 4335, 'mai': 2557, 'defend': 1090, 'solv': 3972, 'underscor': 4573, 'pictur': 3113, 'internet': 2222, 'senior': 3776, 'healer': 1952, 'genuin': 1761, 'worth': 4906, 'strang': 4136, 'sha': 3803, 'prais': 3198, 'spit': 4032, 'reli': 3492, 'rhino': 3580, 'horn': 2050, 'apa': 196, 'breath': 494, 'gen': 1751, 'pakistani': 3019, 'buse': 549, 'outcom': 2978, 'kuwait': 2380, 'queri': 3365, 'ver': 4668, 'overheard': 2995, 'lemon': 2446, 'tighten': 4400, 'disast': 1190, 'orang': 2960, 'empti': 1364, 'overshadow': 3000, 'depend': 1121, 'match': 2610, 'crypto': 1002, 'binanc': 411, 'pledg': 3148, 'quicker': 3371, 'proven': 3300, 'societi': 3959, 'whistleblow': 4833, 'itv': 2266, 'elderli': 1344, 'eng': 1371, 'sub': 4171, 'swiss': 4248, 'horribl': 2051, 'conserv': 848, 'shouldn': 3848, 'judg': 2314, 'sinophobia': 3899, 'wat': 4764, 'abandon': 2, 'averag': 293, 'abil': 8, 'footbal': 1631, 'sport': 4042, 'singl': 3896, 'xenophob': 4947, 'measl': 2626, 'porn': 3180, 'leagu': 2427, 'uncontrol': 4566, 'modern': 2719, 'academ': 20, 'prob': 3257, 'loan': 2503, 'bacteria': 312, 'tehran': 4305, 'dri': 1275, 'aw': 297, 'esta': 1413, 'perfect': 3078, 'storm': 4130, 'filthi': 1574, 'confid': 837, 'grammi': 1838, 'award': 300, 'problemat': 3261, 'oth': 2968, 'unleash': 4590, 'adult': 59, 'cast': 615, 'quarter': 3359, 'steal': 4097, 'winter': 4864, 'fulli': 1711, 'tail': 4266, 'taiwanes': 4270, 'weed': 4789, 'minor': 2693, 'dread': 1272, 'stomach': 4124, 'fyi': 1726, 'mile': 2677, 'asid': 248, 'presum': 3231, 'unfortun': 4579, 'direct': 1183, 'contagio': 864, 'realiz': 3436, 'divid': 1224, 'amongst': 150, 'curtail': 1019, 'legend': 2442, 'pro': 3255, 'publicli': 3319, 'experi': 1469, 'capac': 590, 'malay': 2571, 'premier': 3218, 'label': 2383, 'goal': 1801, 'td': 4293, 'father': 1530, 'papa': 3029, 'democrat': 1111, 'imp': 2127, 'rlli': 3605, 'kahit': 2323, 'lysol': 2544, 'doubt': 1259, 'onset': 2943, 'reg': 3473, 'aapl': 1, 'newslett': 2843, 'kept': 2337, 'po': 3158, 'sleep': 3920, 'explod': 1474, 'yea': 4961, 'deliv': 1105, 'truck': 4506, 'tue': 4520, 'district': 1218, 'click': 737, 'seller': 3769, 'sho': 3834, 'fuckin': 1704, 'dark': 1043, 'vote': 4729, 'greec': 1852, 'connecticut': 846, 'popular': 3176, 'worsen': 4903, 'ivori': 2269, 'sana': 3681, 'scarier': 3711, 'mea': 2621, 'poll': 3169, 'relax': 3489, 'recoveri': 3457, 'fallout': 1509, 'tesla': 4330, 'bioweapon': 420, 'scariest': 3712, 'increasingli': 2153, 'catastroph': 619, 'phil': 3101, 'jone': 2307, 'wrote': 4920, 'pullback': 3323, 'alcohol': 109, 'instruct': 2207, 'imposs': 2137, 'spend': 4023, 'ctv': 1006, 'aka': 105, 'topbuzz': 4435, 'sensibl': 3779, 'perman': 3084, 'ultim': 4553, 'sto': 4117, 'soo': 3986, 'tear': 4297, 'ga': 1727, 'sake': 3670, 'perform': 3079, 'athlet': 266, 'championship': 660, 'destruct': 1140, 'unwel': 4606, 'inner': 2190, 'hypochondriac': 2093, 'nut': 2903, 'franci': 1668, 'bomb': 454, 'robert': 3609, 'method': 2654, 'pak': 3017, 'content': 869, 'newprofilep': 2838, 'intensifi': 2214, 'humbl': 2079, 'hoax': 2023, 'slip': 3926, 'parodi': 3040, 'interact': 2216, 'coronaviruscanada': 911, 'chest': 686, 'nose': 2881, 'contin': 871, 'frontlin': 1697, 'tariff': 4283, 'hall': 1901, 'upset': 4616, 'weren': 4807, 'stat': 4087, 'doesnt': 1239, 'pulp': 3324, 'lay': 2420, 'tequila': 4322, 'intellig': 2211, 'vicki': 4682, 'drug': 1287, 'massachusett': 2607, 'hmmm': 2019, 'reproduct': 3526, 'immigr': 2123, 'consum': 858, 'role': 3614, 'virginia': 4703, 'cent': 643, 'smuggl': 3945, 'properti': 3285, 'ich': 2101, 'da': 1029, 'stfu': 4107, 'michigan': 2662, 'indiana': 2163, 'cooper': 886, 'shockwav': 3836, 'chen': 684, 'kobe': 2369, 'bryant': 521, 'goa': 1800, 'soda': 3960, 'rout': 3627, 'southwest': 4006, 'bioengin': 413, 'abbvi': 3, 'coronavirusfr': 915, 'coronaviruswuhan': 928, 'peac': 3064, 'biden': 402, 'greatest': 1851, 'basketbal': 341, 'distribut': 1217, 'adh': 49, 'maricopa': 2597, 'tension': 4320, 'outta': 2989, 'shout': 3849, 'qld': 3345, 'girlfriend': 1784, 'job': 2299, 'sweden': 4240, 'nomin': 2870, 'cryptocurr': 1003, 'puerto': 3321, 'rico': 3587, 'vega': 4657, 'brink': 504, 'ard': 221, 'couldn': 948, 'exce': 1450, 'mate': 2611, 'champion': 659, 'airlift': 98, 'sentenc': 3782, 'dampen': 1037, 'pharmaceut': 3097, 'secret': 3751, 'ride': 3590, 'anonym': 173, 'abus': 19, 'schumer': 3719, 'themselv': 4349, 'apart': 197, 'discoveri': 1195, 'forest': 1642, 'harder': 1919, 'shoe': 3837, 'cytokin': 1028, 'asu': 261, 'christma': 714, 'island': 2252, 'helicopt': 1977, 'iraq': 2243, 'silent': 3881, 'millenni': 2681, 'convinc': 883, 'alabama': 107, 'respond': 3551, 'unexpect': 4577, 'recap': 3445, 'card': 597, 'fuc': 1701, 'ako': 106, 'fda': 1536, 'approv': 214, 'ftse': 1700, 'master': 2609, 'arrow': 237, 'dip': 1179, 'justin': 2321, 'mess': 2650, 'shun': 3859, 'fragil': 1665, 'civil': 727, 'cool': 885, 'conflict': 841, 'talli': 4276, 'power': 3193, 'serio': 3789, 'rajasthan': 3392, 'gianna': 1776, 'goin': 1806, 'chri': 711, 'martenson': 2603, 'newsalert': 2840, 'bare': 333, 'degre': 1096, 'broke': 512, 'dun': 1296, 'children': 692, 'conf': 834, 'tragedi': 4466, 'min': 2684, 'lobster': 2504, 'michael': 2661, 'uyghur': 4635, 'appreci': 211, 'roommat': 3620, 'bush': 550, 'tax': 4287, 'tiktok': 4402, 'worldnew': 4897, 'sui': 4189, 'attack': 270, 'translat': 4474, 'steam': 4098, 'factor': 1498, 'influenc': 2179, 'buzz': 560, 'om': 2934, 'rocket': 3612, 'usd': 4625, 'mit': 2707, 'carrielam': 606, 'nach': 2785, 'yuan': 4982, 'weather': 4780, 'damag': 1035, 'wuhanoutbreak': 4938, 'chariti': 671, 'wale': 4741, 'scrambl': 3730, 'evac': 1425, 'strict': 4146, 'virtual': 4706, 'refund': 3470, 'book': 458, 'camel': 572, 'harvard': 1927, 'thermonuclear': 4356, 'hainan': 1897, 'pitch': 3125, 'wikipedia': 4847, 'mideast': 2668, 'nap': 2792, 'coach': 764, 'ripmamba': 3597, 'jew': 2295, 'lmfao': 2499, 'oppress': 2955, 'perhap': 3080, 'anybodi': 190, 'fujian': 1707, 'rna': 3607, 'analyz': 156, 'receptor': 3448, 'gene': 1753, 'tough': 4445, 'suicid': 4190, 'brit': 506, 'prof': 3267, 'meltdown': 2639, 'fuel': 1705, 'biowarfar': 419, 'facebook': 1492, 'lang': 2398, 'rel': 3486, 'manila': 2584, 'survey': 4223, 'wie': 4844, 'statist': 4091, 'panda': 3023, 'ambassador': 140, 'heartbreak': 1961, 'bloomberg': 443, 'succeed': 4179, 'approx': 215, 'com': 785, 'flow': 1614, 'asset': 254, 'canc': 582, 'antivir': 186, 'mongolia': 2730, 'scho': 3716, 'welfar': 4801, 'pinpoint': 3121, 'jakarta': 2275, 'teach': 4294, 'joy': 2312, 'sink': 3898, 'hint': 2012, 'pharma': 3096, 'forgot': 1648, 'account': 29, 'alright': 132, 'sensex': 3778, 'plummet': 3153, 'loser': 2525, 'koronaviru': 2376, 'sigh': 3874, 'tumbl': 4522, 'distress': 1216, 'ino': 2192, 'dismiss': 1205, 'bombshel': 455, 'republican': 3528, 'botswana': 469, 'sight': 3875, 'rubber': 3636, 'mor': 2739, 'cambodia': 570, 'xrp': 4953, 'med': 2629, 'wide': 4840, 'spain': 4009, 'emperor': 1360, 'ghanaian': 1773, 'mayor': 2619, 'bangkok': 326, 'ethiopia': 1419, 'hai': 1894, 'aur': 279, 'slap': 3918, 'pero': 3086, 'iii': 2110, 'toddler': 4416, 'dutch': 1303, 'silver': 3882, 'seventh': 3799, 'staysaf': 4094, 'fals': 1510, 'cau': 623, 'searo': 3743, 'emro': 1365, 'afro': 74, 'kenyan': 2335, 'essenti': 1411, 'slide': 3923, 'chant': 665, 'politician': 3167, 'xiaomi': 4949, 'introduc': 2227, 'icymi': 2103, 'encourag': 1366, 'bought': 472, 'snapshot': 3948, 'partner': 3048, 'spokesman': 4038, 'femal': 1553, 'angst': 165, 'project': 3275, 'tran': 4470, 'atom': 268, 'logic': 2511, 'sri': 4061, 'lanka': 2400, 'iron': 2246, 'eeri': 1333, 'quiet': 3373, 'sur': 4213, 'srilanka': 4062, 'employe': 1363, 'kiwi': 2359, 'strand': 4135, 'optim': 2957, 'vape': 4649, 'snap': 3947, 'pend': 3070, 'stude': 4159, 'eric': 1404, 'kobebraynt': 2370, 'mitig': 2708, 'reu': 3568, 'along': 127, 'prepared': 3221, 'justifi': 2320, 'disrespect': 1211, 'residentevil': 3540, 'charg': 670, 'temporarili': 4314, 'villa': 4693, 'bond': 456, 'arrest': 235, 'activist': 39, 'thorough': 4367, 'ensur': 1381, 'asymptomat': 263, 'brown': 518, 'barri': 334, 'gop': 1819, 'attach': 269, 'auto': 288, 'overreact': 2998, 'stage': 4068, 'liner': 2480, 'sail': 3668, 'ticket': 4395, 'stereotyp': 4103, 'hostil': 2057, 'luck': 2537, 'quebec': 3362, 'path': 3056, 'kno': 2363, 'strengthen': 4143, 'excel': 1452, 'imo': 2126, 'fucker': 1703, 'uni': 4581, 'scam': 3705, 'twice': 4534, 'sentiment': 3783, 'vision': 4714, 'former': 1650, 'log': 2510, 'skip': 3914, 'btw': 525, 'aff': 67, 'shudder': 3857, 'physician': 3109, 'bear': 358, 'spx': 4057, 'hug': 2074, 'foxconn': 1663, 'samsung': 3679, 'anchorag': 157, 'lil': 2474, 'ju': 2313, 'incom': 2149, 'evacue': 1427, 'offens': 2921, 'habit': 1888, 'mainstream': 2562, 'crimin': 985, 'cheaper': 678, 'bother': 468, 'ted': 4301, 'steven': 4106, 'text': 4333, 'heavili': 1969, 'brave': 485, 'broom': 515, 'pregnant': 3215, 'hilari': 2003, 'misconcept': 2697, 'fam': 1512, 'career': 599, 'forefront': 1640, 'cheap': 677, 'tota': 4440, 'commod': 803, 'driven': 1280, 'thehil': 4344, 'cri': 983, 'shanxi': 3811, 'batch': 343, 'yield': 4970, 'curv': 1020, 'lieber': 2466, 'caucu': 624, 'vacay': 4637, 'legal': 2441, 'consequ': 847, 'ship': 3829, 'affair': 68, 'warrant': 4755, 'morgan': 2742, 'plasma': 3138, 'solidar': 3970, 'leak': 2428, 'cincinnati': 719, 'netherland': 2827, 'shuffl': 3858, 'sustain': 4235, 'hole': 2028, 'newjersey': 2835, 'asx': 262, 'secondari': 3749, 'panick': 3028, 'shortag': 3843, 'mort': 2746, 'pump': 3326, 'hashtag': 1931, 'bail': 318, 'din': 1176, 'termin': 4324, 'await': 298, 'disgust': 1201, 'confir': 839, 'oklahoma': 2930, 'sacrific': 3659, 'rona': 3617, 'troubl': 4504, 'nyc': 2906, 'float': 1609, 'curat': 1012, 'co': 763, 'smartphon': 3936, 'beef': 368, 'florida': 1613, 'scream': 3733, 'spot': 4043, 'gmt': 1798, 'peak': 3065, 'holder': 2027, 'independ': 2159, 'signific': 3879, 'cull': 1007, 'row': 3629, 'garbag': 1736, 'stabilis': 4065, 'pussi': 3337, 'deem': 1083, 'contro': 877, 'visa': 4712, 'terrorist': 4329, 'tripl': 4501, 'absenc': 15, 'suspici': 4232, 'plenti': 3149, 'tra': 4457, 'nifti': 2852, 'chastis': 675, 'egg': 1338, 'pizza': 3126, 'delhi': 1102, 'rml': 3606, 'pti': 3313, 'bachelor': 308, 'semest': 3771, 'qatar': 3343, 'worl': 4894, 'outbr': 2975, 'chinatown': 698, 'tianjin': 4392, 'simon': 3885, 'rule': 3640, 'bavaria': 349, 'marc': 2594, 'siegel': 3872, 'medium': 2634, 'exampl': 1448, 'unlik': 4592, 'cali': 566, 'spokesperson': 4039, 'geniu': 1756, 'lka': 2496, 'iam': 2097, 'lift': 2469, 'stanley': 4079, 'smoker': 3944, 'environ': 1387, 'sam': 3676, 'inde': 2157, 'pune': 3329, 'supermarket': 4201, 'lmaoo': 2498, 'enjoy': 1377, 'mislead': 2701, 'bitter': 430, 'juic': 2315, 'tablet': 4262, 'allegedli': 122, 'shaheen': 3805, 'bagh': 316, 'karona': 2327, 'fit': 1591, 'han': 1907, 'stole': 4122, 'toh': 4419, 'nahi': 2787, 'straight': 4132, 'cruis': 998, 'surpass': 4219, 'elder': 1343, 'prophet': 3287, 'vice': 4680, 'nikkei': 2860, 'marketscreen': 2600, 'slam': 3917, 'kenyatta': 2336, 'richard': 3584, 'fkn': 1597, 'wegen': 4793, 'uncomfort': 4564, 'shove': 3850, 'globalist': 1795, 'depopul': 1123, 'agenda': 81, 'mental': 2645, 'tb': 4291, 'debt': 1069, 'jitter': 2298, 'therefor': 4355, 'coron': 897, 'bogu': 453, 're': 3423, 'harsh': 1926, 'bbi': 354, 'tournament': 4450, 'pretend': 3233, 'yearli': 4964, 'vent': 4665, 'phoenix': 3104, 'mall': 2576, 'benefit': 387, 'checkpoint': 681, 'singaporean': 3895, 'angl': 163, 'nairobi': 2789, 'wasnt': 4762, 'derail': 1129, 'stabil': 4064, 'mock': 2714, 'aviat': 295, 'rac': 3380, 'driver': 1281, 'slash': 3919, 'coronavirusuk': 924, 'veget': 4658, 'glob': 1791, 'draw': 1271, 'neglig': 2816, 'shi': 3825, 'fmtnew': 1619, 'duqu': 1298, 'drove': 1286, 'onboard': 2937, 'bhi': 399, 'forecast': 1639, 'voluntari': 4727, 'oper': 2951, 'seat': 3745, 'arm': 229, 'tent': 4321, 'characterist': 669, 'infec': 2174, 'railway': 3390, 'sort': 3992, 'obviou': 2913, 'coronavirusindia': 916, 'nowaday': 2892, 'held': 1976, 'goggl': 1805, 'euro': 1422, 'engag': 1372, 'comparison': 810, 'repo': 3519, 'confront': 842, 'domest': 1244, 'quando': 3352, 'rhythm': 3581, 'introvert': 2228, 'sympathi': 4254, 'furiou': 1720, 'danish': 1041, 'flag': 1598, 'birth': 424, 'cna': 758, 'exagger': 1446, 'spent': 4024, 'dollar': 1242, 'jet': 2294, 'ingredi': 2185, 'liberti': 2461, 'cou': 944, 'diego': 1169, 'livestream': 2494, 'midday': 2666, 'slight': 3924, 'bounc': 473, 'glass': 1789, 'ion': 2237, 'vector': 4656, 'illustr': 2115, 'parcel': 3036, 'chicken': 689, 'narr': 2794, 'amount': 151, 'prove': 3299, 'frenzi': 1681, 'slim': 3925, 'austria': 285, 'starv': 4086, 'badli': 314, 'ryan': 3653, 'airpod': 101, 'accident': 26, 'union': 4583, 'involv': 2236, 'keqiang': 2338, 'survivor': 4225, 'retir': 3563, 'paramed': 3032, 'chain': 654, 'woe': 4879, 'supplier': 4206, 'hike': 2002, 'wrench': 4915, 'skin': 3913, 'reluct': 3499, 'mode': 2715, 'zte': 4999, 'telecom': 4307, 'remot': 3506, 'wise': 4870, 'letter': 2453, 'salut': 3675, 'liang': 2457, 'wudong': 4925, 'starbuck': 4081, 'motiv': 2754, 'fring': 1691, 'ceas': 637, 'riot': 3595, 'dean': 1064, 'stockpil': 4120, 'execut': 1458, 'revenu': 3572, 'exot': 1464, 'creativ': 976, 'denmark': 1115, 'adhanom': 50, 'hh': 1993, 'sheer': 3820, 'rank': 3403, 'maker': 2568, 'miami': 2659, 'univ': 4587, 'ohio': 2927, 'vimeo': 4695, 'descent': 1131, 'bangladesh': 327, 'onto': 2945, 'caa': 563, 'hampshir': 1906, 'hay': 1943, 'der': 1128, 'incid': 2146, 'zim': 4992, 'controversi': 879, 'ting': 4408, 'labour': 2385, 'vox': 4731, 'hamper': 1905, 'mandatori': 2582, 'gdp': 1749, 'hella': 1979, 'liquid': 2483, 'alli': 123, 'savag': 3698, 'cor': 892, 'heavi': 1968, 'overpopul': 2997, 'male': 2574, 'suppress': 4211, 'von': 4728, 'mull': 2768, 'whatsapp': 4820, 'cancer': 584, 'tap': 4280, 'wound': 4909, 'columbia': 784, 'greet': 1856, 'foothold': 1632, 'protocol': 3296, 'neither': 2820, 'manipul': 2585, 'roni': 3618, 'caryn': 610, 'rabin': 3379, 'denis': 1114, 'gradi': 1836, 'birmingham': 423, 'autocraci': 289, 'explor': 1476, 'apolog': 200, 'cartoon': 609, 'intend': 2212, 'request': 3530, 'funer': 1717, 'rsa': 3631, 'workplac': 4893, 'hill': 2004, 'crack': 968, 'volunt': 4726, 'respon': 3550, 'water': 4767, 'startl': 4084, 'tsunami': 4518, 'mph': 2764, 'ann': 168, 'violenc': 4697, 'azar': 304, 'skeptic': 3909, 'lawrenc': 2417, 'cock': 768, 'ball': 323, 'opposit': 2954, 'journey': 2311, 'mesa': 2649, 'pt': 3312, 'choke': 707, 'fri': 1685, 'manmad': 2588, 'hook': 2045, 'aliv': 118, 'newest': 2834, 'loveisland': 2530, 'irrat': 2247, 'artifici': 240, 'sweet': 4242, 'commission': 800, 'hawaii': 1940, 'honolulu': 2044, 'waikiki': 4735, 'regular': 3482, 'riski': 3602, 'grown': 1866, 'hail': 1895, 'breakthrough': 493, 'detroit': 1145, 'reddit': 3460, 'stripe': 4151, 'gang': 1734, 'instanc': 2204, 'ameripri': 145, 'wah': 4734, 'homeless': 2033, 'deliber': 1103, 'und': 4567, 'inevit': 2171, 'bound': 474, 'infectiousdiseas': 2177, 'moron': 2744, 'realis': 3434, 'flip': 1608, 'variou': 4653, 'golden': 1808, 'businessman': 553, 'cathol': 622, 'prepper': 3222, 'turbul': 4524, 'telework': 4308, 'thou': 4369, 'ruin': 3639, 'manitoba': 2586, 'sauna': 3697, 'prospect': 3290, 'rewatch': 3579, 'tong': 4428, 'inactiv': 2141, 'unhealthi': 4580, 'sampl': 3678, 'whistl': 4832, 'discrimin': 1196, 'johnson': 2302, 'polici': 3165, 'som': 3973, 'underreport': 4572, 'dick': 1162, 'superbowl': 4200, 'valentin': 4639, 'client': 738, 'repatri': 3513, 'bathroom': 345, 'welp': 4803, 'georg': 1764, 'stir': 4116, 'reliabl': 3493, 'sniffl': 3950, 'bust': 554, 'success': 4180, 'punch': 3328, 'split': 4033, 'peo': 3072, 'bowl': 477, 'commi': 798, 'std': 4095, 'debunk': 1070, 'disinform': 1204, 'sushi': 4227, 'museum': 2774, 'hindi': 2010, 'reserv': 3537, 'isra': 2256, 'weight': 4795, 'main': 2559, 'doom': 1253, 'fece': 1543, 'urin': 4623, 'crime': 984, 'halv': 1903, 'legitim': 2444, 'polic': 3164, 'cow': 965, 'dung': 1297, 'pheic': 3100, 'bubbl': 527, 'convers': 882, 'fascism': 1523, 'alex': 111, 'fixtur': 1596, 'pharmaci': 3098, 'decreas': 1081, 'migrant': 2672, 'briefli': 500, 'vic': 4679, 'outstrip': 2988, 'refuge': 3469, 'ho': 2020, 'proceed': 3263, 'intent': 2215, 'indonesian': 2167, 'airway': 104, 'setzt': 3796, 'elit': 1349, 'thin': 4361, 'herd': 1987, 'faq': 1519, 'retail': 3560, 'spirit': 4030, 'stall': 4072, 'islam': 2251, 'david': 1050, 'gi': 1775, 'impress': 2138, 'outpac': 2984, 'fiscal': 1589, 'composit': 819, 'bjp': 431, 'utc': 4631, 'homoeopathi': 2036, 'compet': 812, 'thai': 4336, 'adjust': 52, 'lahat': 2391, 'protestor': 3295, 'height': 1973, 'boat': 450, 'toyota': 4456, 'heal': 1951, 'divert': 1223, 'freedom': 1676, 'movement': 2761, 'armenia': 231, 'rang': 3402, 'fold': 1622, 'mini': 2688, 'pst': 3309, 'sooner': 3988, 'mum': 2771, 'admir': 55, 'stringent': 4150, 'cargo': 600, 'constantli': 853, 'recess': 3449, 'vir': 4700, 'mission': 2703, 'cur': 1011, 'runni': 3646, 'hunger': 2085, 'revolut': 3578, 'hum': 2077, 'promis': 3277, 'piss': 3124, 'clue': 755, 'circumst': 722, 'overtak': 3001, 'outrag': 2986, 'addit': 47, 'abuja': 18, 'disabl': 1186, 'cash': 612, 'grab': 1833, 'afternoon': 76, 'frantic': 1671, 'modi': 2721, 'gaug': 1743, 'kati': 2329, 'csse': 1004, 'kere': 2340, 'jack': 2271, 'procedur': 3262, 'coronaraviru': 900, 'viruscorona': 4710, 'vile': 4692, 'grace': 1834, 'chip': 703, 'mix': 2709, 'panel': 3025, 'bacteri': 311, 'unmask': 4593, 'pool': 3172, 'closer': 748, 'eminem': 1357, 'defeat': 1088, 'cheer': 682, 'permiss': 3085, 'tsla': 4517, 'deliveri': 1106, 'comput': 820, 'riversid': 3604, 'wrapup': 4913, 'monger': 2729, 'fellow': 1550, 'coronavirusupd': 925, 'remark': 3501, 'mot': 2752, 'ridicul': 3591, 'shortli': 3845, 'ferri': 1554, 'litter': 2488, 'roger': 3613, 'heartland': 1963, 'opec': 2948, 'hammer': 1904, 'billionair': 409, 'moon': 2737, 'compel': 811, 'foxnew': 1664, 'sudan': 4184, 'hunter': 2087, 'profil': 3270, 'gentl': 1760, 'mistaken': 2705, 'tragic': 4467, 'truli': 4510, 'tree': 4487, 'sheet': 3821, 'clarifi': 731, 'graduat': 1837, 'ayurveda': 303, 'jedrzejczyk': 2287, 'zhang': 4987, 'weili': 4796, 'ufc': 4545, 'wed': 4785, 'cst': 1005, 'smog': 3942, 'coronovirusoutbreak': 934, 'tara': 4281, 'subject': 4172, 'undetect': 4576, 'fitch': 1592, 'advers': 61, 'stolen': 4123, 'scrutini': 3737, 'chairman': 656, 'powel': 3192, 'web': 4781, 'precis': 3210, 'spin': 4029, 'shipper': 3831, 'di': 1151, 'sichuan': 3867, 'wave': 4768, 'wing': 4861, 'nba': 2802, 'clorox': 746, 'fauci': 1531, 'assur': 260, 'lebanes': 2433, 'dirti': 1185, 'hash': 1929, 'failur': 1503, 'unfair': 4578, 'stigmat': 4112, 'thug': 4387, 'church': 717, 'cowork': 966, 'seiz': 3763, 'psa': 3306, 'pub': 3314, 'santa': 3689, 'clara': 730, 'assign': 256, 'guinea': 1881, 'dynam': 1307, 'arkansa': 228, 'sex': 3801, 'elizabeth': 1350, 'warren': 4756, 'shutter': 3862, 'joe': 2300, 'invit': 2235, 'sponsor': 4040, 'scmp': 3724, 'haram': 1917, 'hoarder': 2022, 'progress': 3273, 'primari': 3241, 'denounc': 1116, 'jenesuispasunviru': 2289, 'rio': 3594, 'aboard': 11, 'rant': 3404, 'xinhua': 4951, 'getti': 1771, 'larri': 2403, 'kudlow': 2377, 'overwatch': 3003, 'criticis': 990, 'dictatorship': 1164, 'wuhanacuterespiratorysyndrom': 4930, 'makeshift': 2569, 'england': 1374, 'theme': 4348, 'raci': 3382, 'pla': 3128, 'dua': 1289, 'hashmi': 1930, 'shower': 3852, 'deepli': 1087, 'liv': 2491, 'yahoo': 4955, 'wherev': 4824, 'lung': 2540, 'donaldtrump': 1249, 'gym': 1886, 'tweak': 4531, 'tigerair': 4398, 'structur': 4156, 'soccer': 3956, 'appoint': 210, 'departur': 1120, 'stz': 4169, 'tie': 4396, 'presidenti': 3228, 'complac': 814, 'eme': 1355, 'concer': 825, 'imho': 2120, 'newsfe': 2841, 'diari': 1159, 'jabas': 2270, 'purg': 3334, 'harm': 1923, 'ponder': 3171, 'intermedi': 2219, 'prohibit': 3274, 'eaten': 1321, 'currenc': 1017, 'breach': 487, 'rap': 3405, 'sig': 3873, 'shirt': 3832, 'code': 770, 'dutert': 1304, 'focus': 1621, 'vein': 4661, 'elev': 1347, 'formula': 1651, 'jerom': 2291, 'coronavirusph': 921, 'microsoft': 2664, 'forward': 1655, 'lawmak': 2416, 'portion': 3182, 'pilot': 3119, 'coronaviruswho': 927, 'hea': 1946, 'hongkongprotest': 2043, 'sm': 3931, 'tribut': 4495, 'electron': 1346, 'plea': 3145, 'spare': 4012, 'insert': 2196, 'quarant': 3356, 'ofw': 2926, 'fia': 1560, 'wobbl': 4878, 'symp': 4253, 'friendli': 1688, 'wealth': 4776, 'handshak': 1911, 'taipei': 4268, 'fair': 1504, 'plant': 3137, 'toler': 4423, 'utopia': 4633, 'hun': 2082, 'sen': 3773, 'quot': 3376, 'bath': 344, 'incred': 2154, 'nintendo': 2862, 'supplychain': 4207, 'king': 2354, 'overcom': 2994, 'coz': 967, 'ukrain': 4551, 'insur': 2208, 'batter': 346, 'evolut': 1442, 'herbal': 1986, 'sci': 3720, 'plot': 3150, 'incompet': 2150, 'maintain': 2563, 'ethiopian': 1420, 'equatori': 1400, 'tencent': 4316, 'improv': 2139, 'tayong': 4290, 'priorit': 3248, 'collabor': 777, 'epi': 1389, 'upbeat': 4608, 'gather': 1742, 'ross': 3623, 'pin': 3120, 'fort': 1652, 'knee': 2361, 'disembark': 1200, 'vet': 4675, 'zoonot': 4998, 'dig': 1173, 'quaran': 3355, 'shipment': 3830, 'dublin': 1291, 'asean': 244, 'indefinit': 2158, 'trail': 4468, 'creator': 977, 'dock': 1230, 'slowdown': 3928, 'treasuri': 4484, 'smart': 3934, 'jail': 2274, 'wildcard': 4851, 'expo': 1478, 'openli': 2950, 'wilbur': 4849, 'abo': 10, 'access': 24, 'cape': 591, 'tibet': 4393, 'bulli': 539, 'divis': 1225, 'sting': 4115, 'complic': 817, 'governm': 1829, 'dalio': 1033, 'bhai': 398, 'uncertain': 4559, 'mistak': 2704, 'leishenshan': 2445, 'cruiseship': 999, 'leftist': 2439, 'reloc': 3498, 'owe': 3005, 'compon': 818, 'abeg': 6, 'rapper': 3409, 'soooo': 3989, 'balanc': 320, 'underground': 4571, 'eastern': 1319, 'standwithhongkong': 4078, 'collect': 780, 'huoshenshan': 2088, 'freight': 1679, 'jamia': 2279, 'ben': 386, 'honda': 2037, 'facial': 1494, 'reviv': 3576, 'blanket': 434, 'submit': 4173, 'wang': 4746, 'so': 3953, 'syria': 4258, 'chernobyl': 685, 'richest': 3585, 'spous': 4045, 'beauti': 363, 'wirral': 4868, 'emotet': 1359, 'malwar': 2577, 'nope': 2875, 'thick': 4360, 'whilst': 4830, 'therapi': 4353, 'patholog': 3058, 'sea': 3739, 'sacramento': 3658, 'bori': 463, 'automak': 290, 'shopper': 3840, 'teen': 4303, 'confin': 838, 'wuhancoronavirusoutbreak': 4933, 'wuhanjiay': 4936, 'acut': 42, 'altern': 135, 'obsess': 2912, 'tedro': 4302, 'todo': 4417, 'purchas': 3332, 'international': 2221, 'hardest': 1920, 'tembisa': 4310, 'privileg': 3252, 'revers': 3573, 'instagram': 2202, 'ami': 146, 'dictat': 1163, 'bin': 410, 'travelban': 4482, 'pat': 3054, 'commut': 807, 'appropri': 213, 'sim': 3883, 'qqq': 3347, 'artificialintellig': 241, 'gay': 1745, 'jacket': 2272, 'pmi': 3156, 'climatechang': 740, 'territori': 4327, 'rome': 3616, 'italia': 2261, 'carson': 608, 'infant': 2173, 'hoffman': 2025, 'enorm': 1379, 'coronavi': 906, 'epoch': 1399, 'reput': 3529, 'theorist': 4352, 'salud': 3674, 'brilliant': 502, 'commit': 801, 'mill': 2680, 'iowa': 2238, 'prize': 3254, 'constant': 852, 'histor': 2014, 'explos': 1477, 'fwd': 1723, 'royal': 3630, 'tout': 4451, 'cremat': 981, 'disclos': 1193, 'bno': 448, 'shine': 3828, 'cybersecur': 1026, 'spoken': 4037, 'coronavirususa': 926, 'rash': 3411, 'grandma': 1840, 'unintend': 4582, 'hardwar': 1921, 'defin': 1094, 'para': 3031, 'speech': 4020, 'ninth': 2863, 'sometim': 3979, 'transcript': 4471, 'telebrief': 4306, 'newsroom': 2845, 'supervis': 4203, 'tight': 4399, 'resili': 3542, 'steadi': 4096, 'subway': 4178, 'he': 1945, 'outlook': 2983, 'volatil': 4723, 'karnataka': 2326, 'peril': 3081, 'met': 2652, 'democraci': 1110, 'divers': 1222, 'klm': 2360, 'carniv': 603, 'secreci': 3750, 'dinner': 1177, 'weirdest': 4798, 'sia': 3864, 'pacif': 3010, 'paranoia': 3033, 'context': 870, 'apologis': 201, 'fix': 1595, 'dodgi': 1236, 'costa': 941, 'outcri': 2979, 'milan': 2675, 'bangladeshi': 328, 'wala': 4740, 'diamond': 1157, 'dealer': 1063, 'lan': 2394, 'mute': 2779, 'brexitday': 497, 'aircraft': 97, 'myanmar': 2781, 'miner': 2687, 'nytim': 2908, 'holocaust': 2031, 'prayforchina': 3203, 'frog': 1694, 'goldman': 1809, 'uganda': 4546, 'analys': 153, 'manchest': 2580, 'tori': 4437, 'annual': 171, 'upload': 4614, 'condol': 832, 'wee': 4788, 'newcastl': 2833, 'vessel': 4674, 'sb': 3702, 'gender': 1752, 'furi': 1719, 'mp': 2763, 'requir': 3531, 'skyrocket': 3916, 'vulner': 4732, 'pull': 3322, 'ncyt': 2807, 'swineflu': 4246, 'machin': 2548, 'quaranti': 3357, 'siberia': 3865, 'monetari': 2727, 'majeur': 2564, 'dot': 1257, 'produc': 3265, 'unveil': 4605, 'devic': 1149, 'hain': 1896, 'copper': 891, 'striker': 4149, 'isa': 2249, 'worldhealthorgan': 4896, 'ordinari': 2962, 'roundup': 3626, 'grade': 1835, 'gratitud': 1846, 'webinar': 4782, 'rub': 3635, 'pasteur': 3052, 'weaken': 4773, 'hoard': 2021, 'bac': 307, 'xxx': 4954, 'argument': 225, 'sidelin': 3871, 'mein': 2636, 'delta': 1107, 'novacyt': 2887, 'downsid': 1265, 'basel': 338, 'fallen': 1508, 'cybercrimin': 1025, 'violent': 4698, 'max': 2616, 'traffick': 4465, 'june': 2317, 'coronavirusitalia': 918, 'zoom': 4997, 'commenc': 793, 'neutral': 2829, 'seizur': 3764, 'uniqu': 4584, 'condemn': 830, 'rape': 3406, 'cap': 588, 'aud': 277, 'chinazi': 700, 'pentagon': 3071, 'sti': 4108, 'lng': 2500, 'nor': 2876, 'psychosi': 3311, 'trillion': 4499, 'straw': 4139, 'drone': 1283, 'sach': 3655, 'la': 2381, 'hockey': 2024, 'bulletin': 538, 'rwanda': 3652, 'urdu': 4620, 'intraven': 2226, 'cocain': 767, 'ighalo': 2108, 'epl': 1398, 'wwg': 4942, 'wga': 4816, 'consult': 857, 'stare': 4082, 'lpga': 2535, 'clown': 753, 'ual': 4541, 'gilead': 1780, 'sou': 3994, 'squad': 4058, 'wif': 4845, 'mar': 2591, 'remdesivir': 3502, 'graph': 1843, 'crippl': 986, 'quran': 3377, 'ukrainian': 4552, 'ibio': 2099, 'ethic': 1418, 'breakout': 492, 'anthoni': 179, 'harvest': 1928, 'brutal': 520, 'rea': 3424, 'stabl': 4066, 'lane': 2397, 'catalyst': 618, 'guarante': 1872, 'walmart': 4744, 'myth': 2784, 'turner': 4528, 'elsewher': 1352, 'utd': 4632, 'durat': 1299, 'thrown': 4383, 'stoke': 4121, 'lend': 2447, 'rescu': 3534, 'numer': 2901, 'thei': 4345, 'vide': 4686, 'recognit': 3451, 'freezerohedg': 1678, 'hed': 1970, 'mainli': 2561, 'overblown': 2993, 'stockmarket': 4119, 'unc': 4558, 'cop': 888, 'verg': 4669, 'hindu': 2011, 'mahasabha': 2556, 'spice': 4026, 'dox': 1266, 'hero': 1990, 'fujifilm': 1708, 'georgia': 1765, 'hinder': 2009, 'joint': 2305, 'una': 4555, 'physic': 3108, 'taxi': 4288, 'qanta': 3342, 'mice': 2660, 'ram': 3395, 'cottrel': 943, 'licens': 2463, 'casino': 614, 'percent': 3076, 'basi': 339, 'reader': 3430, 'bore': 462, 'safest': 3665, 'cruel': 997, 'admin': 53, 'ub': 4542, 'paddington': 3013, 'proxim': 3304, 'microscop': 2663, 'aerosol': 65, 'filter': 1573, 'succumb': 4181, 'ski': 3911, 'letsbeatcoronatogeth': 2452, 'clueless': 756, 'eater': 1322, 'kim': 2350, 'jong': 2308, 'size': 3908, 'aim': 90, 'courag': 955, 'malaria': 2570, 'lurk': 2541, 'paid': 3015, 'bc': 355, 'innov': 2191, 'withdraw': 4874, 'plastron': 3140, 'anp': 175, 'pee': 3066, 'spade': 4008, 'captain': 593, 'censorship': 642, 'writer': 4917, 'defens': 1091, 'usman': 4629, 'tini': 4409, 'fran': 1666, 'pastor': 3053, 'rick': 3586, 'wile': 4854, 'exploit': 1475, 'rare': 3410, 'golf': 1810, 'obama': 2909, 'famou': 1515, 'ken': 2333, 'eighth': 1341, 'hunan': 2083, 'symptomat': 4256, 'relationship': 3488, 'accommod': 27, 'weaponis': 4778, 'tank': 4278, 'malici': 2575, 'exhibit': 1461, 'spo': 4034, 'fade': 1501, 'deleg': 1100, 'reflect': 3465, 'nepali': 2824, 'mandat': 2581, 'birdflu': 422, 'umass': 4554, 'letterfromwuhan': 2454, 'dod': 1234, 'defi': 1092, 'admiss': 56, 'persecut': 3087, 'abe': 5, 'vow': 4730, 'combin': 787, 'lackland': 2387, 'afb': 66, 'enemi': 1368, 'wreak': 4914, 'ivanka': 2267, 'pigeon': 3116, 'periscop': 3083, 'heartgang': 1962, 'spreadluv': 4053, 'itbp': 2263, 'resign': 3541, 'wore': 4890, 'horrifi': 2053, 'preppertalk': 3223, 'lick': 2464, 'til': 4403, 'nomeat': 2869, 'nocoronaviru': 2867, 'sin': 3890, 'inflat': 2178, 'shandong': 3809, 'pax': 3062, 'librari': 2462, 'dea': 1056, 'worship': 4904, 'saint': 3669, 'rampal': 3398, 'maharaj': 2555, 'wuha': 4928, 'sant': 3688, 'vegetarian': 4659, 'coronarivu': 901, 'shelter': 3822, 'spiritu': 4031, 'avian': 294, 'soul': 3996, 'section': 3755, 'hater': 1935, 'scold': 3725, 'command': 792, 'vardhan': 4650, 'dispos': 1209, 'exempt': 1459, 'mixtur': 2710, 'suprem': 4212, 'ove': 2990, 'buffet': 532, 'acquir': 34, 'cloud': 751, 'prankster': 3200, 'lea': 2423, 'hilton': 2006, 'belaru': 379, 'negoti': 2817, 'barcelona': 332, 'properli': 3284, 'wine': 4860, 'defenc': 1089, 'difficulti': 1172, 'toni': 4429, 'hair': 1898, 'khan': 2345, 'cocktail': 769, 'relev': 3491, 'smile': 3940, 'prank': 3199, 'le': 2422, 'shed': 3819, 'overal': 2992, 'kuo': 2379, 'contribut': 876, 'marat': 2592, 'ru': 3634, 'financ': 1576, 'in': 2140, 'wion': 4865, 'supp': 4204, 'salt': 3673, 'candid': 585, 'behavior': 376, 'pradesh': 3197, 'resum': 3559, 'softwar': 3963, 'penalti': 3068, 'pshuttl': 3307, 'conting': 872, 'marri': 2602, 'pummel': 3325, 'coronavriu': 930, 'subsid': 4175, 'hacker': 1890, 'flush': 1618, 'reopen': 3511, 'lectur': 2435, 'opt': 2956, 'lombardi': 2514, 'whiski': 4831, 'valuabl': 4643, 'diy': 1226, 'groceri': 1860, 'refut': 3472, 'wast': 4763, 'garlic': 1737, 'campbel': 577, 'alter': 134, 'diarrhea': 1161, 'refil': 3463, 'pupil': 3331, 'prejudic': 3216, 'bia': 400, 'preciou': 3209, 'woo': 4887, 'southafrica': 4002, 'stung': 4165, 'menac': 2644, 'crucial': 995, 'comedian': 790, 'expel': 1468, 'suitabl': 4192, 'vlog': 4721, 'fabric': 1490, 'cloth': 750, 'eventu': 1432, 'vital': 4718, 'clip': 744, 'chase': 674, 'scum': 3738, 'ring': 3593, 'reject': 3485, 'handwash': 1912, 'van': 4646, 'mkt': 2711, 'particip': 3044, 'enhanc': 1376, 'regret': 3480, 'realm': 3438, 'vivo': 4720, 'moral': 2740, 'iceberg': 2100, 'lauri': 2414, 'garrett': 1738, 'sabotag': 3654, 'intens': 2213, 'quiz': 3375, 'digest': 1174, 'insist': 2199, 'suscept': 4226, 'zhejiang': 4988, 'irrespons': 2248, 'enlist': 1378, 'linger': 2481, 'forb': 1635, 'shrug': 3855, 'shortcom': 3844, 'defici': 1093, 'boyl': 480, 'grand': 1839, 'prix': 3253, 'sweat': 4239, 'mountain': 2757, 'gordon': 1820, 'gottlieb': 1824, 'curecanc': 1015, 'trueworship': 4509, 'qua': 3348, 'quest': 3366, 'xau': 4945, 'whic': 4827, 'ditch': 1220, 'nudg': 2898, 'gambl': 1731, 'si': 3863, 'valid': 4640, 'belgian': 381, 'travi': 4483, 'rabbit': 3378, 'poultri': 3191, 'restructur': 3557, 'baba': 305, 'chloroquin': 705, 'envis': 1388, 'scrap': 3731, 'cointelegraph': 774, 'cfr': 653, 'signatur': 3878, 'geograph': 1762, 'phish': 3103, 'guo': 1883, 'nokia': 2868, 'ralph': 3394, 'lauren': 2413, 'spoil': 4035, 'cola': 775, 'westjet': 4812, 'guest': 1877, 'hyundai': 2096, 'extens': 1485, 'glo': 1790, 'acc': 21, 'gazett': 1747, 'stake': 4071, 'sotu': 3993, 'reassur': 3441, 'nike': 2859, 'globaleconomi': 1793, 'princess': 3244, 'linear': 2479, 'caveat': 629, 'fled': 1603, 'arirang': 226, 'guam': 1869, 'takeout': 4273, 'yokohama': 4972, 'princesscruis': 3245, 'mwc': 2780, 'sanitis': 3686, 'invis': 2234, 'banker': 330, 'taint': 4267, 'probe': 3259, 'unpaid': 4596, 'dutton': 1306, 'preprint': 3224, 'maria': 2596, 'prayforwuhan': 3204, 'tricki': 4497, 'wilson': 4856, 'adida': 51, 'liquidit': 2484, 'bundl': 544, 'soni': 3985, 'shadow': 3804, 'disput': 1210, 'math': 2613, 'putin': 3339, 'newborn': 2832, 'bustl': 555, 'christ': 712, 'womb': 4882, 'mankind': 2587, 'exp': 1465, 'watc': 4765, 'gift': 1778, 'gasolin': 1739, 'flash': 1600, 'kfc': 2343, 'fluid': 1617, 'actor': 40, 'airbu': 96, 'ambit': 141, 'worldomet': 4898, 'buyer': 559, 'balconi': 321, 'concis': 828, 'youngest': 4977, 'weld': 4800, 'trevor': 4491, 'twist': 4535, 'squar': 4059, 'crackdown': 969, 'korl': 2375, 'assembl': 252, 'emiss': 1358, 'utterli': 4634, 'dent': 1117, 'rippl': 3598, 'corononaviru': 932, 'sanofi': 3687, 'disciplin': 1192, 'miramar': 2695, 'hometown': 2034, 'relianc': 3494, 'brighton': 501, 'firmer': 1587, 'persist': 3088, 'wenliang': 4804, 'narrow': 2795, 'libertarian': 2460, 'batteri': 347, 'pall': 3020, 'wind': 4858, 'authoritarian': 287, 'ethnic': 1421, 'startup': 4085, 'drliwenliang': 1282, 'diagram': 1156, 'outer': 2980, 'sack': 3656, 'reprimand': 3525, 'chapter': 668, 'blower': 445, 'chaotic': 667, 'fifti': 1565, 'frank': 1670, 'xbox': 4946, 'greek': 1853, 'antonio': 187, 'runner': 3645, 'archiv': 220, 'asf': 245, 'infodem': 2182, 'darwin': 1044, 'bayonn': 352, 'wechat': 4784, 'crop': 991, 'dir': 1181, 'burberri': 546, 'pangolin': 3026, 'norwegian': 2880, 'quara': 3354, 'mourn': 2758, 'sixti': 3907, 'chronic': 715, 'fewer': 1558, 'scali': 3704, 'stun': 4164, 'ericsson': 1405, 'thur': 4389, 'heap': 1957, 'coronarvirusoutbreak': 904, 'liwenliang': 2495, 'airshow': 103, 'dire': 1182, 'diamondprincess': 1158, 'quar': 3353, 'valuat': 4644, 'twenti': 4533, 'coronaviu': 929, 'up': 4607, 'wartim': 4757, 'downgrad': 1262, 'qualcomm': 3349, 'milton': 2683, 'keyn': 2342, 'turkish': 4526, 'trenton': 4490, 'virusoutbreak': 4711, 'plummer': 3152, 'fecal': 1542, 'inanim': 2142, 'nvidia': 2905, 'notifi': 2886, 'presenc': 3225, 'vanish': 4648, 'sander': 3683, 'conclud': 829, 'coronavirusreport': 922, 'majorca': 2566, 'yale': 4956, 'chalet': 657, 'mac': 2545, 'odion': 2919, 'sought': 3995, 'bahcesaray': 317, 'pegasu': 3067, 'coronavirustruth': 923, 'assault': 251, 'alp': 130, 'trick': 4496, 'veteran': 4676, 'neglect': 2815, 'heatmap': 1967, 'bite': 429, 'repriev': 3524, 'audienc': 278, 'ucsd': 4544, 'fxi': 1724, 'lifelin': 2468, 'whatabout': 4818, 'forcibl': 1638, 'nazi': 2801, 'medicar': 2632, 'ncp': 2805, 'standstil': 4077, 'limbo': 2475, 'propheci': 3286, 'bone': 457, 'stagger': 4069, 'chronicl': 716, 'oli': 2932, 'harmattan': 1924, 'rice': 3582, 'rcl': 3422, 'qiushi': 3344, 'gucci': 1875, 'pore': 3178, 'hotpot': 2062, 'stephen': 4102, 'derang': 1130, 'revis': 3575, 'kitchen': 2358, 'visibl': 4713, 'tottenham': 4442, 'dele': 1099, 'exil': 1462, 'dissid': 1213, 'hsbc': 2069, 'friendship': 1689, 'xijinp': 4950, 'lowest': 2533, 'creepi': 980, 'troll': 4502, 'volkswagen': 4725, 'weakest': 4775, 'grandmoth': 1841, 'airbnb': 94, 'rival': 3603, 'strait': 4134, 'nissan': 2864, 'gsma': 1868, 'wmc': 4877, 'wework': 4815, 'sussex': 4234, 'gp': 1832, 'foodsecur': 1627, 'coronavirusfact': 914, 'grim': 1858, 'bump': 542, 'sarcast': 3691, 'steril': 4104, 'wink': 4862, 'domino': 1246, 'button': 557, 'renown': 3510, 'upsid': 4617, 'crunch': 1000, 'hal': 1899, 'sanction': 3682, 'mistakenli': 2706, 'pipe': 3122, 'intel': 2210, 'criteria': 988, 'playstat': 3144, 'uncheck': 4561, 'coronavirusjapan': 919, 'thrive': 4378, 'refug': 3468, 'covid': 964, 'turnout': 4529, 'wea': 4771, 'falun': 1511, 'gong': 1813, 'practition': 3196, 'galaxi': 1730, 'achiev': 32, 'fbi': 1535, 'coronavaviru': 905, 'prov': 3298, 'soften': 3962, 'sym': 4251, 'gabriel': 1728, 'bartiromo': 336, 'sane': 3684, 'stagnat': 4070, 'yanggang': 4959, 'db': 1055, 'logist': 2512, 'shave': 3817, 'exaronew': 1449, 'mislabel': 2700, 'inquiri': 2194, 'intraday': 2225, 'deeper': 1086, 'oxford': 3008, 'towi': 4454, 'fianc': 1561, 'westerdam': 4810, 'sinist': 3897, 'bakker': 319, 'daegu': 1031, 'sarscov': 3692, 'lawyer': 2418, 'hotb': 2059, 'militar': 2678, 'napa': 2793, 'spurt': 4056, 'renew': 3509, 'tame': 4277, 'wakayama': 4738, 'prefectur': 3212, 'rural': 3648, 'covd': 960, 'mln': 2712, 'stormzi': 4131, 'sona': 3983, 'stimulu': 4114, 'stigmabas': 4111, 'kai': 2324, 'strongli': 4154, 'rugbi': 3638, 'sadhguru': 3661, 'misjudg': 2699, 'dentist': 1118, 'westminst': 4813, 'runway': 3647, 'violet': 4699, 'koontz': 2372, 'imf': 2119, 'reconsid': 3453, 'religi': 3496, 'rescuer': 3535, 'gaze': 1746, 'reinfect': 3484, 'tighter': 4401, 'valv': 4645, 'graviti': 1848, 'coronaviriu': 908, 'lew': 2456, 'entranc': 1385, 'giraff': 1782, 'contactless': 862, 'pickup': 3112, 'hawk': 1942, 'georgieva': 1766, 'marathon': 2593, 'heist': 1975, 'cameroon': 574, 'ventur': 4666, 'autoshow': 291, 'fourteen': 1660, 'hawaiian': 1941, 'recount': 3455, 'ipad': 2239, 'liu': 2490, 'zhime': 4989, 'rec': 3443, 'roughli': 3624, 'quarterli': 3360, 'salli': 3672, 'abel': 7, 'fundament': 1715, 'wuchang': 4924, 'reac': 3425, 'antimalari': 185, 'msc': 2765, 'jaguar': 2273, 'rover': 3628, 'coronavirusdeath': 913, 'suitcas': 4193, 'magu': 2554, 'omaha': 2935, 'riddl': 3589, 'petri': 3095, 'efcc': 1334, 'lcc': 2421, 'casi': 613, 'inciner': 2147, 'qom': 3346, 'cult': 1008, 'goog': 1817, 'iata': 2098, 'sacr': 3657, 'gdc': 1748, 'sect': 3754, 'squeez': 4060, 'humboldt': 2080, 'uptick': 4618, 'clash': 732, 'lebanon': 2434, 'raid': 3388, 'reagent': 3432, 'tremend': 4488, 'apc': 198, 'fayos': 1534, 'tutt': 4530, 'coronavirusitali': 917, 'bungl': 545, 'untrac': 4603, 'anniston': 169, 'giorgio': 1781, 'armani': 230, 'venic': 4664}\n"
     ]
    }
   ],
   "source": [
    "print(tfidf_vect.vocabulary_)"
   ]
  },
  {
   "cell_type": "code",
   "execution_count": 41,
   "id": "0f806380",
   "metadata": {},
   "outputs": [],
   "source": [
    "from sklearn.svm import SVC\n",
    "from sklearn.metrics import accuracy_score\n",
    "from sklearn.metrics import ConfusionMatrixDisplay,classification_report\n",
    "from sklearn.preprocessing import LabelBinarizer"
   ]
  },
  {
   "cell_type": "code",
   "execution_count": 42,
   "id": "2516970f",
   "metadata": {},
   "outputs": [
    {
     "data": {
      "text/html": [
       "<style>#sk-container-id-1 {color: black;background-color: white;}#sk-container-id-1 pre{padding: 0;}#sk-container-id-1 div.sk-toggleable {background-color: white;}#sk-container-id-1 label.sk-toggleable__label {cursor: pointer;display: block;width: 100%;margin-bottom: 0;padding: 0.3em;box-sizing: border-box;text-align: center;}#sk-container-id-1 label.sk-toggleable__label-arrow:before {content: \"▸\";float: left;margin-right: 0.25em;color: #696969;}#sk-container-id-1 label.sk-toggleable__label-arrow:hover:before {color: black;}#sk-container-id-1 div.sk-estimator:hover label.sk-toggleable__label-arrow:before {color: black;}#sk-container-id-1 div.sk-toggleable__content {max-height: 0;max-width: 0;overflow: hidden;text-align: left;background-color: #f0f8ff;}#sk-container-id-1 div.sk-toggleable__content pre {margin: 0.2em;color: black;border-radius: 0.25em;background-color: #f0f8ff;}#sk-container-id-1 input.sk-toggleable__control:checked~div.sk-toggleable__content {max-height: 200px;max-width: 100%;overflow: auto;}#sk-container-id-1 input.sk-toggleable__control:checked~label.sk-toggleable__label-arrow:before {content: \"▾\";}#sk-container-id-1 div.sk-estimator input.sk-toggleable__control:checked~label.sk-toggleable__label {background-color: #d4ebff;}#sk-container-id-1 div.sk-label input.sk-toggleable__control:checked~label.sk-toggleable__label {background-color: #d4ebff;}#sk-container-id-1 input.sk-hidden--visually {border: 0;clip: rect(1px 1px 1px 1px);clip: rect(1px, 1px, 1px, 1px);height: 1px;margin: -1px;overflow: hidden;padding: 0;position: absolute;width: 1px;}#sk-container-id-1 div.sk-estimator {font-family: monospace;background-color: #f0f8ff;border: 1px dotted black;border-radius: 0.25em;box-sizing: border-box;margin-bottom: 0.5em;}#sk-container-id-1 div.sk-estimator:hover {background-color: #d4ebff;}#sk-container-id-1 div.sk-parallel-item::after {content: \"\";width: 100%;border-bottom: 1px solid gray;flex-grow: 1;}#sk-container-id-1 div.sk-label:hover label.sk-toggleable__label {background-color: #d4ebff;}#sk-container-id-1 div.sk-serial::before {content: \"\";position: absolute;border-left: 1px solid gray;box-sizing: border-box;top: 0;bottom: 0;left: 50%;z-index: 0;}#sk-container-id-1 div.sk-serial {display: flex;flex-direction: column;align-items: center;background-color: white;padding-right: 0.2em;padding-left: 0.2em;position: relative;}#sk-container-id-1 div.sk-item {position: relative;z-index: 1;}#sk-container-id-1 div.sk-parallel {display: flex;align-items: stretch;justify-content: center;background-color: white;position: relative;}#sk-container-id-1 div.sk-item::before, #sk-container-id-1 div.sk-parallel-item::before {content: \"\";position: absolute;border-left: 1px solid gray;box-sizing: border-box;top: 0;bottom: 0;left: 50%;z-index: -1;}#sk-container-id-1 div.sk-parallel-item {display: flex;flex-direction: column;z-index: 1;position: relative;background-color: white;}#sk-container-id-1 div.sk-parallel-item:first-child::after {align-self: flex-end;width: 50%;}#sk-container-id-1 div.sk-parallel-item:last-child::after {align-self: flex-start;width: 50%;}#sk-container-id-1 div.sk-parallel-item:only-child::after {width: 0;}#sk-container-id-1 div.sk-dashed-wrapped {border: 1px dashed gray;margin: 0 0.4em 0.5em 0.4em;box-sizing: border-box;padding-bottom: 0.4em;background-color: white;}#sk-container-id-1 div.sk-label label {font-family: monospace;font-weight: bold;display: inline-block;line-height: 1.2em;}#sk-container-id-1 div.sk-label-container {text-align: center;}#sk-container-id-1 div.sk-container {/* jupyter's `normalize.less` sets `[hidden] { display: none; }` but bootstrap.min.css set `[hidden] { display: none !important; }` so we also need the `!important` here to be able to override the default hidden behavior on the sphinx rendered scikit-learn.org. See: https://github.com/scikit-learn/scikit-learn/issues/21755 */display: inline-block !important;position: relative;}#sk-container-id-1 div.sk-text-repr-fallback {display: none;}</style><div id=\"sk-container-id-1\" class=\"sk-top-container\"><div class=\"sk-text-repr-fallback\"><pre>SVC(kernel=&#x27;linear&#x27;, probability=True)</pre><b>In a Jupyter environment, please rerun this cell to show the HTML representation or trust the notebook. <br />On GitHub, the HTML representation is unable to render, please try loading this page with nbviewer.org.</b></div><div class=\"sk-container\" hidden><div class=\"sk-item\"><div class=\"sk-estimator sk-toggleable\"><input class=\"sk-toggleable__control sk-hidden--visually\" id=\"sk-estimator-id-1\" type=\"checkbox\" checked><label for=\"sk-estimator-id-1\" class=\"sk-toggleable__label sk-toggleable__label-arrow\">SVC</label><div class=\"sk-toggleable__content\"><pre>SVC(kernel=&#x27;linear&#x27;, probability=True)</pre></div></div></div></div></div>"
      ],
      "text/plain": [
       "SVC(kernel='linear', probability=True)"
      ]
     },
     "execution_count": 42,
     "metadata": {},
     "output_type": "execute_result"
    }
   ],
   "source": [
    "svm_model = SVC(probability = True, kernel = 'linear')\n",
    "svm_model.fit(X_train_tfidf, y_train )"
   ]
  },
  {
   "cell_type": "code",
   "execution_count": 43,
   "id": "77c0186f",
   "metadata": {},
   "outputs": [
    {
     "data": {
      "text/html": [
       "<div>\n",
       "<style scoped>\n",
       "    .dataframe tbody tr th:only-of-type {\n",
       "        vertical-align: middle;\n",
       "    }\n",
       "\n",
       "    .dataframe tbody tr th {\n",
       "        vertical-align: top;\n",
       "    }\n",
       "\n",
       "    .dataframe thead th {\n",
       "        text-align: right;\n",
       "    }\n",
       "</style>\n",
       "<table border=\"1\" class=\"dataframe\">\n",
       "  <thead>\n",
       "    <tr style=\"text-align: right;\">\n",
       "      <th></th>\n",
       "      <th>Tweet</th>\n",
       "      <th>Label</th>\n",
       "    </tr>\n",
       "  </thead>\n",
       "  <tbody>\n",
       "    <tr>\n",
       "      <th>8225</th>\n",
       "      <td>dutert like welcom all chines especi corona vi...</td>\n",
       "      <td>neu</td>\n",
       "    </tr>\n",
       "    <tr>\n",
       "      <th>10794</th>\n",
       "      <td>cdc detail inform state the infect novel coron...</td>\n",
       "      <td>neu</td>\n",
       "    </tr>\n",
       "    <tr>\n",
       "      <th>9163</th>\n",
       "      <td>coronaviru updat pandem</td>\n",
       "      <td>neu</td>\n",
       "    </tr>\n",
       "    <tr>\n",
       "      <th>26591</th>\n",
       "      <td>more than healthcar personnel china infect wit...</td>\n",
       "      <td>pos</td>\n",
       "    </tr>\n",
       "    <tr>\n",
       "      <th>6631</th>\n",
       "      <td>brent recoup china viru angst fed speak play m...</td>\n",
       "      <td>neu</td>\n",
       "    </tr>\n",
       "    <tr>\n",
       "      <th>...</th>\n",
       "      <td>...</td>\n",
       "      <td>...</td>\n",
       "    </tr>\n",
       "    <tr>\n",
       "      <th>21914</th>\n",
       "      <td>unit panic bought striker and are now tell him...</td>\n",
       "      <td>neu</td>\n",
       "    </tr>\n",
       "    <tr>\n",
       "      <th>17453</th>\n",
       "      <td>teehe coronaviru pangolin host</td>\n",
       "      <td>neu</td>\n",
       "    </tr>\n",
       "    <tr>\n",
       "      <th>20344</th>\n",
       "      <td>nzd usd technic bia bearish dow jone brush off...</td>\n",
       "      <td>neu</td>\n",
       "    </tr>\n",
       "    <tr>\n",
       "      <th>1878</th>\n",
       "      <td>coronaviru sound like someth you catch drink b...</td>\n",
       "      <td>neu</td>\n",
       "    </tr>\n",
       "    <tr>\n",
       "      <th>6465</th>\n",
       "      <td>updat beij report new case pneumonia from the ...</td>\n",
       "      <td>neu</td>\n",
       "    </tr>\n",
       "  </tbody>\n",
       "</table>\n",
       "<p>9000 rows × 2 columns</p>\n",
       "</div>"
      ],
      "text/plain": [
       "                                                   Tweet Label\n",
       "8225   dutert like welcom all chines especi corona vi...   neu\n",
       "10794  cdc detail inform state the infect novel coron...   neu\n",
       "9163                             coronaviru updat pandem   neu\n",
       "26591  more than healthcar personnel china infect wit...   pos\n",
       "6631   brent recoup china viru angst fed speak play m...   neu\n",
       "...                                                  ...   ...\n",
       "21914  unit panic bought striker and are now tell him...   neu\n",
       "17453                     teehe coronaviru pangolin host   neu\n",
       "20344  nzd usd technic bia bearish dow jone brush off...   neu\n",
       "1878   coronaviru sound like someth you catch drink b...   neu\n",
       "6465   updat beij report new case pneumonia from the ...   neu\n",
       "\n",
       "[9000 rows x 2 columns]"
      ]
     },
     "execution_count": 43,
     "metadata": {},
     "output_type": "execute_result"
    }
   ],
   "source": [
    "svm_predictions = svm_model.predict(X_test_tfidf)\n",
    "pred_data = pd.DataFrame()\n",
    "pred_data['Tweet'] = X_test\n",
    "pred_data['Label'] = svm_predictions\n",
    "pred_data"
   ]
  },
  {
   "cell_type": "code",
   "execution_count": 44,
   "id": "03f39220",
   "metadata": {},
   "outputs": [
    {
     "data": {
      "text/plain": [
       "neu    7370\n",
       "neg    1256\n",
       "pos     374\n",
       "Name: Label, dtype: int64"
      ]
     },
     "execution_count": 44,
     "metadata": {},
     "output_type": "execute_result"
    }
   ],
   "source": [
    "pred_data['Label'].value_counts()\n"
   ]
  },
  {
   "cell_type": "code",
   "execution_count": 45,
   "id": "134ad39b",
   "metadata": {},
   "outputs": [
    {
     "name": "stdout",
     "output_type": "stream",
     "text": [
      "Name: scikit-learn\n",
      "Version: 1.2.0\n",
      "Summary: A set of python modules for machine learning and data mining\n",
      "Home-page: http://scikit-learn.org\n",
      "Author: \n",
      "Author-email: \n",
      "License: new BSD\n",
      "Location: c:\\programdata\\anaconda3\\lib\\site-packages\n",
      "Requires: threadpoolctl, joblib, numpy, scipy\n",
      "Required-by: scikit-learn-intelex\n",
      "Note: you may need to restart the kernel to use updated packages.\n"
     ]
    },
    {
     "name": "stderr",
     "output_type": "stream",
     "text": [
      "WARNING: Ignoring invalid distribution -blib (c:\\programdata\\anaconda3\\lib\\site-packages)\n",
      "WARNING: Ignoring invalid distribution -oblib (c:\\programdata\\anaconda3\\lib\\site-packages)\n",
      "WARNING: Ignoring invalid distribution - (c:\\programdata\\anaconda3\\lib\\site-packages)\n"
     ]
    }
   ],
   "source": [
    "pip show scikit-learn"
   ]
  },
  {
   "cell_type": "code",
   "execution_count": 46,
   "id": "efe03913",
   "metadata": {},
   "outputs": [
    {
     "data": {
      "text/plain": [
       "<sklearn.metrics._plot.confusion_matrix.ConfusionMatrixDisplay at 0x2dbb2715c10>"
      ]
     },
     "execution_count": 46,
     "metadata": {},
     "output_type": "execute_result"
    },
    {
     "data": {
      "image/png": "[encoded data removed]",
      "text/plain": [
       "<Figure size 432x288 with 2 Axes>"
      ]
     },
     "metadata": {
      "needs_background": "light"
     },
     "output_type": "display_data"
    }
   ],
   "source": [
    "ConfusionMatrixDisplay.from_predictions(y_test, svm_predictions)"
   ]
  },
  {
   "cell_type": "code",
   "execution_count": 47,
   "id": "d4273c20",
   "metadata": {},
   "outputs": [
    {
     "data": {
      "text/plain": [
       "88.74444444444445"
      ]
     },
     "execution_count": 47,
     "metadata": {},
     "output_type": "execute_result"
    }
   ],
   "source": [
    "svm_accuracy = accuracy_score(svm_predictions, y_test)*100\n",
    "svm_accuracy"
   ]
  },
  {
   "cell_type": "code",
   "execution_count": 48,
   "id": "63eed68d",
   "metadata": {},
   "outputs": [
    {
     "name": "stdout",
     "output_type": "stream",
     "text": [
      "Classification Report:\n",
      "              precision    recall  f1-score   support\n",
      "\n",
      "         neg       0.88      0.69      0.77      1591\n",
      "         neu       0.90      0.97      0.93      6828\n",
      "         pos       0.77      0.50      0.61       581\n",
      "\n",
      "    accuracy                           0.89      9000\n",
      "   macro avg       0.85      0.72      0.77      9000\n",
      "weighted avg       0.88      0.89      0.88      9000\n",
      "\n"
     ]
    }
   ],
   "source": [
    "print(\"Classification Report:\")\n",
    "print(classification_report(y_test, svm_predictions))"
   ]
  },
  {
   "cell_type": "code",
   "execution_count": null,
   "id": "ad663416",
   "metadata": {},
   "outputs": [],
   "source": []
  }
 ],
 "metadata": {
  "kernelspec": {
   "display_name": "Python 3 (ipykernel)",
   "language": "python",
   "name": "python3"
  },
  "language_info": {
   "codemirror_mode": {
    "name": "ipython",
    "version": 3
   },
   "file_extension": ".py",
   "mimetype": "text/x-python",
   "name": "python",
   "nbconvert_exporter": "python",
   "pygments_lexer": "ipython3",
   "version": "3.9.7"
  }
 },
 "nbformat": 4,
 "nbformat_minor": 5
}
